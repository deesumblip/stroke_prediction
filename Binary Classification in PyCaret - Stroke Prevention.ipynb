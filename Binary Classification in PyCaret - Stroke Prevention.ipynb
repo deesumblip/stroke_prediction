{
 "cells": [
  {
   "cell_type": "markdown",
   "metadata": {},
   "source": [
    "# Binary Classification in PyCaret - Stroke Prevention"
   ]
  },
  {
   "cell_type": "markdown",
   "metadata": {},
   "source": [
    "In this dataset, we have factors that could be linked to the likelihood of having a stroke. First, we'll investigate some descriptive statistics organised by gender, probe for missing values, encode categorical variables, and then see if we can find strong predictors of having a stroke. This dataset can be found here: https://www.kaggle.com/fedesoriano/stroke-prediction-dataset"
   ]
  },
  {
   "cell_type": "markdown",
   "metadata": {},
   "source": [
    "Attribute Information\n",
    "- id: unique identifier\n",
    "- gender: \"Male\", \"Female\" or \"Other\"\n",
    "- age: age of the patient\n",
    "- hypertension: 0 if the patient doesn't have hypertension, 1 if the patient has hypertension\n",
    "- heart_disease: 0 if the patient doesn't have any heart diseases, 1 if the patient has a heart disease\n",
    "- ever_married: \"No\" or \"Yes\"\n",
    "- work_type: \"children\", \"Govt_jov\", \"Never_worked\", \"Private\" or \"Self-employed\"\n",
    "- Residence_type: \"Rural\" or \"Urban\"\n",
    "- avg_glucose_level: average glucose level in blood\n",
    "- bmi: body mass index\n",
    "- smoking_status: \"formerly smoked\", \"never smoked\", \"smokes\" or \"Unknown\"*\n",
    "- stroke: 1 if the patient had a stroke or 0 if not\n",
    "*Note: \"Unknown\" in smoking_status means that the information is unavailable for this patient"
   ]
  },
  {
   "cell_type": "markdown",
   "metadata": {},
   "source": [
    "Import the necessary libraries for data inspection"
   ]
  },
  {
   "cell_type": "code",
   "execution_count": 1,
   "metadata": {},
   "outputs": [],
   "source": [
    "import pandas as pd\n",
    "import numpy as np\n",
    "import matplotlib.pyplot as plt\n",
    "import seaborn as sns\n",
    "import altair as alt"
   ]
  },
  {
   "cell_type": "code",
   "execution_count": 2,
   "metadata": {},
   "outputs": [],
   "source": [
    "train = pd.read_csv('train_2v.csv')"
   ]
  },
  {
   "cell_type": "code",
   "execution_count": 3,
   "metadata": {},
   "outputs": [],
   "source": [
    "test = pd.read_csv('test_2v.csv')"
   ]
  },
  {
   "cell_type": "markdown",
   "metadata": {},
   "source": [
    "Combine the test and train datasets briefly for inspection."
   ]
  },
  {
   "cell_type": "code",
   "execution_count": 4,
   "metadata": {},
   "outputs": [],
   "source": [
    "data = train.append(test)"
   ]
  },
  {
   "cell_type": "markdown",
   "metadata": {},
   "source": [
    "Inspect columns"
   ]
  },
  {
   "cell_type": "code",
   "execution_count": 5,
   "metadata": {},
   "outputs": [
    {
     "data": {
      "text/html": [
       "<div>\n",
       "<style scoped>\n",
       "    .dataframe tbody tr th:only-of-type {\n",
       "        vertical-align: middle;\n",
       "    }\n",
       "\n",
       "    .dataframe tbody tr th {\n",
       "        vertical-align: top;\n",
       "    }\n",
       "\n",
       "    .dataframe thead th {\n",
       "        text-align: right;\n",
       "    }\n",
       "</style>\n",
       "<table border=\"1\" class=\"dataframe\">\n",
       "  <thead>\n",
       "    <tr style=\"text-align: right;\">\n",
       "      <th></th>\n",
       "      <th>id</th>\n",
       "      <th>gender</th>\n",
       "      <th>age</th>\n",
       "      <th>hypertension</th>\n",
       "      <th>heart_disease</th>\n",
       "      <th>ever_married</th>\n",
       "      <th>work_type</th>\n",
       "      <th>Residence_type</th>\n",
       "      <th>avg_glucose_level</th>\n",
       "      <th>bmi</th>\n",
       "      <th>smoking_status</th>\n",
       "      <th>stroke</th>\n",
       "    </tr>\n",
       "  </thead>\n",
       "  <tbody>\n",
       "    <tr>\n",
       "      <th>0</th>\n",
       "      <td>30669</td>\n",
       "      <td>Male</td>\n",
       "      <td>3.0</td>\n",
       "      <td>0</td>\n",
       "      <td>0</td>\n",
       "      <td>No</td>\n",
       "      <td>children</td>\n",
       "      <td>Rural</td>\n",
       "      <td>95.12</td>\n",
       "      <td>18.0</td>\n",
       "      <td>NaN</td>\n",
       "      <td>0.0</td>\n",
       "    </tr>\n",
       "    <tr>\n",
       "      <th>1</th>\n",
       "      <td>30468</td>\n",
       "      <td>Male</td>\n",
       "      <td>58.0</td>\n",
       "      <td>1</td>\n",
       "      <td>0</td>\n",
       "      <td>Yes</td>\n",
       "      <td>Private</td>\n",
       "      <td>Urban</td>\n",
       "      <td>87.96</td>\n",
       "      <td>39.2</td>\n",
       "      <td>never smoked</td>\n",
       "      <td>0.0</td>\n",
       "    </tr>\n",
       "    <tr>\n",
       "      <th>2</th>\n",
       "      <td>16523</td>\n",
       "      <td>Female</td>\n",
       "      <td>8.0</td>\n",
       "      <td>0</td>\n",
       "      <td>0</td>\n",
       "      <td>No</td>\n",
       "      <td>Private</td>\n",
       "      <td>Urban</td>\n",
       "      <td>110.89</td>\n",
       "      <td>17.6</td>\n",
       "      <td>NaN</td>\n",
       "      <td>0.0</td>\n",
       "    </tr>\n",
       "    <tr>\n",
       "      <th>3</th>\n",
       "      <td>56543</td>\n",
       "      <td>Female</td>\n",
       "      <td>70.0</td>\n",
       "      <td>0</td>\n",
       "      <td>0</td>\n",
       "      <td>Yes</td>\n",
       "      <td>Private</td>\n",
       "      <td>Rural</td>\n",
       "      <td>69.04</td>\n",
       "      <td>35.9</td>\n",
       "      <td>formerly smoked</td>\n",
       "      <td>0.0</td>\n",
       "    </tr>\n",
       "    <tr>\n",
       "      <th>4</th>\n",
       "      <td>46136</td>\n",
       "      <td>Male</td>\n",
       "      <td>14.0</td>\n",
       "      <td>0</td>\n",
       "      <td>0</td>\n",
       "      <td>No</td>\n",
       "      <td>Never_worked</td>\n",
       "      <td>Rural</td>\n",
       "      <td>161.28</td>\n",
       "      <td>19.1</td>\n",
       "      <td>NaN</td>\n",
       "      <td>0.0</td>\n",
       "    </tr>\n",
       "  </tbody>\n",
       "</table>\n",
       "</div>"
      ],
      "text/plain": [
       "      id  gender   age  hypertension  heart_disease ever_married  \\\n",
       "0  30669    Male   3.0             0              0           No   \n",
       "1  30468    Male  58.0             1              0          Yes   \n",
       "2  16523  Female   8.0             0              0           No   \n",
       "3  56543  Female  70.0             0              0          Yes   \n",
       "4  46136    Male  14.0             0              0           No   \n",
       "\n",
       "      work_type Residence_type  avg_glucose_level   bmi   smoking_status  \\\n",
       "0      children          Rural              95.12  18.0              NaN   \n",
       "1       Private          Urban              87.96  39.2     never smoked   \n",
       "2       Private          Urban             110.89  17.6              NaN   \n",
       "3       Private          Rural              69.04  35.9  formerly smoked   \n",
       "4  Never_worked          Rural             161.28  19.1              NaN   \n",
       "\n",
       "   stroke  \n",
       "0     0.0  \n",
       "1     0.0  \n",
       "2     0.0  \n",
       "3     0.0  \n",
       "4     0.0  "
      ]
     },
     "execution_count": 5,
     "metadata": {},
     "output_type": "execute_result"
    }
   ],
   "source": [
    "data.head()"
   ]
  },
  {
   "cell_type": "markdown",
   "metadata": {},
   "source": [
    "List number of unique ID's."
   ]
  },
  {
   "cell_type": "code",
   "execution_count": 6,
   "metadata": {},
   "outputs": [
    {
     "data": {
      "text/plain": [
       "62001"
      ]
     },
     "execution_count": 6,
     "metadata": {},
     "output_type": "execute_result"
    }
   ],
   "source": [
    "data.id.nunique()"
   ]
  },
  {
   "cell_type": "markdown",
   "metadata": {},
   "source": [
    "Count the number of null ID values."
   ]
  },
  {
   "cell_type": "code",
   "execution_count": 7,
   "metadata": {},
   "outputs": [
    {
     "data": {
      "text/plain": [
       "False    62001\n",
       "Name: id, dtype: int64"
      ]
     },
     "execution_count": 7,
     "metadata": {},
     "output_type": "execute_result"
    }
   ],
   "source": [
    "data.id.isnull().value_counts()"
   ]
  },
  {
   "cell_type": "markdown",
   "metadata": {},
   "source": [
    "List the number of gender categories."
   ]
  },
  {
   "cell_type": "code",
   "execution_count": 8,
   "metadata": {},
   "outputs": [
    {
     "data": {
      "text/plain": [
       "3"
      ]
     },
     "execution_count": 8,
     "metadata": {},
     "output_type": "execute_result"
    }
   ],
   "source": [
    "data.gender.nunique()"
   ]
  },
  {
   "cell_type": "markdown",
   "metadata": {},
   "source": [
    "Count number of null values in gender."
   ]
  },
  {
   "cell_type": "code",
   "execution_count": 9,
   "metadata": {},
   "outputs": [
    {
     "data": {
      "text/plain": [
       "False    62001\n",
       "Name: gender, dtype: int64"
      ]
     },
     "execution_count": 9,
     "metadata": {},
     "output_type": "execute_result"
    }
   ],
   "source": [
    "data.gender.isnull().value_counts()"
   ]
  },
  {
   "cell_type": "markdown",
   "metadata": {},
   "source": [
    "Plot the gender categories as bar charts."
   ]
  },
  {
   "cell_type": "code",
   "execution_count": 10,
   "metadata": {},
   "outputs": [
    {
     "data": {
      "text/plain": [
       "<AxesSubplot:xlabel='gender', ylabel='count'>"
      ]
     },
     "execution_count": 10,
     "metadata": {},
     "output_type": "execute_result"
    },
    {
     "data": {
      "image/png": "[encoded data removed]",
      "text/plain": [
       "<Figure size 432x288 with 1 Axes>"
      ]
     },
     "metadata": {
      "needs_background": "light"
     },
     "output_type": "display_data"
    }
   ],
   "source": [
    "sns.countplot(x='gender',data=data)"
   ]
  },
  {
   "cell_type": "markdown",
   "metadata": {},
   "source": [
    "Group ID by gender."
   ]
  },
  {
   "cell_type": "code",
   "execution_count": 11,
   "metadata": {},
   "outputs": [],
   "source": [
    "gender_count = data.groupby(by='gender', as_index=False).agg({'id': pd.Series.nunique})"
   ]
  },
  {
   "cell_type": "code",
   "execution_count": 12,
   "metadata": {},
   "outputs": [
    {
     "data": {
      "text/html": [
       "<div>\n",
       "<style scoped>\n",
       "    .dataframe tbody tr th:only-of-type {\n",
       "        vertical-align: middle;\n",
       "    }\n",
       "\n",
       "    .dataframe tbody tr th {\n",
       "        vertical-align: top;\n",
       "    }\n",
       "\n",
       "    .dataframe thead th {\n",
       "        text-align: right;\n",
       "    }\n",
       "</style>\n",
       "<table border=\"1\" class=\"dataframe\">\n",
       "  <thead>\n",
       "    <tr style=\"text-align: right;\">\n",
       "      <th></th>\n",
       "      <th>gender</th>\n",
       "      <th>id</th>\n",
       "    </tr>\n",
       "  </thead>\n",
       "  <tbody>\n",
       "    <tr>\n",
       "      <th>0</th>\n",
       "      <td>Female</td>\n",
       "      <td>36622</td>\n",
       "    </tr>\n",
       "    <tr>\n",
       "      <th>1</th>\n",
       "      <td>Male</td>\n",
       "      <td>25366</td>\n",
       "    </tr>\n",
       "    <tr>\n",
       "      <th>2</th>\n",
       "      <td>Other</td>\n",
       "      <td>13</td>\n",
       "    </tr>\n",
       "  </tbody>\n",
       "</table>\n",
       "</div>"
      ],
      "text/plain": [
       "   gender     id\n",
       "0  Female  36622\n",
       "1    Male  25366\n",
       "2   Other     13"
      ]
     },
     "execution_count": 12,
     "metadata": {},
     "output_type": "execute_result"
    }
   ],
   "source": [
    "gender_count"
   ]
  },
  {
   "cell_type": "markdown",
   "metadata": {},
   "source": [
    "List the number of unique ages."
   ]
  },
  {
   "cell_type": "code",
   "execution_count": 13,
   "metadata": {},
   "outputs": [
    {
     "data": {
      "text/plain": [
       "104"
      ]
     },
     "execution_count": 13,
     "metadata": {},
     "output_type": "execute_result"
    }
   ],
   "source": [
    "data.age.nunique()"
   ]
  },
  {
   "cell_type": "markdown",
   "metadata": {},
   "source": [
    "Create a histogram of ages."
   ]
  },
  {
   "cell_type": "code",
   "execution_count": 14,
   "metadata": {},
   "outputs": [
    {
     "data": {
      "text/plain": [
       "<AxesSubplot:xlabel='age', ylabel='Count'>"
      ]
     },
     "execution_count": 14,
     "metadata": {},
     "output_type": "execute_result"
    },
    {
     "data": {
      "image/png": "[encoded data removed]",
      "text/plain": [
       "<Figure size 720x360 with 1 Axes>"
      ]
     },
     "metadata": {
      "needs_background": "light"
     },
     "output_type": "display_data"
    }
   ],
   "source": [
    "plt.figure(figsize=(10,5))\n",
    "plt.rcParams.update({'font.size': 12, 'axes.labelsize': 12})\n",
    "sns.histplot(x='age',bins=104,data=data)"
   ]
  },
  {
   "cell_type": "markdown",
   "metadata": {},
   "source": [
    "List the number of unique hypertension categories. There should only be two. 0 indicating no hypertension and 1 indicating the presence of hypertension."
   ]
  },
  {
   "cell_type": "code",
   "execution_count": 15,
   "metadata": {},
   "outputs": [
    {
     "data": {
      "text/plain": [
       "2"
      ]
     },
     "execution_count": 15,
     "metadata": {},
     "output_type": "execute_result"
    }
   ],
   "source": [
    "data.hypertension.nunique()"
   ]
  },
  {
   "cell_type": "code",
   "execution_count": 16,
   "metadata": {},
   "outputs": [
    {
     "data": {
      "text/html": [
       "<div>\n",
       "<style scoped>\n",
       "    .dataframe tbody tr th:only-of-type {\n",
       "        vertical-align: middle;\n",
       "    }\n",
       "\n",
       "    .dataframe tbody tr th {\n",
       "        vertical-align: top;\n",
       "    }\n",
       "\n",
       "    .dataframe thead th {\n",
       "        text-align: right;\n",
       "    }\n",
       "</style>\n",
       "<table border=\"1\" class=\"dataframe\">\n",
       "  <thead>\n",
       "    <tr style=\"text-align: right;\">\n",
       "      <th></th>\n",
       "      <th>hypertension</th>\n",
       "      <th>id</th>\n",
       "    </tr>\n",
       "  </thead>\n",
       "  <tbody>\n",
       "    <tr>\n",
       "      <th>0</th>\n",
       "      <td>0</td>\n",
       "      <td>56207</td>\n",
       "    </tr>\n",
       "    <tr>\n",
       "      <th>1</th>\n",
       "      <td>1</td>\n",
       "      <td>5794</td>\n",
       "    </tr>\n",
       "  </tbody>\n",
       "</table>\n",
       "</div>"
      ],
      "text/plain": [
       "   hypertension     id\n",
       "0             0  56207\n",
       "1             1   5794"
      ]
     },
     "execution_count": 16,
     "metadata": {},
     "output_type": "execute_result"
    }
   ],
   "source": [
    "hypertension_count = data.groupby(by='hypertension', as_index=False).agg({'id': pd.Series.nunique})\n",
    "hypertension_count"
   ]
  },
  {
   "cell_type": "markdown",
   "metadata": {},
   "source": [
    "Plot the presence of hypertension by gender."
   ]
  },
  {
   "cell_type": "code",
   "execution_count": 17,
   "metadata": {},
   "outputs": [
    {
     "data": {
      "text/plain": [
       "<AxesSubplot:xlabel='hypertension', ylabel='count'>"
      ]
     },
     "execution_count": 17,
     "metadata": {},
     "output_type": "execute_result"
    },
    {
     "data": {
      "image/png": "[encoded data removed]",
      "text/plain": [
       "<Figure size 432x288 with 1 Axes>"
      ]
     },
     "metadata": {},
     "output_type": "display_data"
    }
   ],
   "source": [
    "sns.set_style(\"ticks\", {\"xtick.major.size\": 12, \"ytick.major.size\": 12})\n",
    "sns.countplot(x='hypertension',hue='gender',data=data)"
   ]
  },
  {
   "cell_type": "code",
   "execution_count": 18,
   "metadata": {},
   "outputs": [
    {
     "data": {
      "text/html": [
       "<div>\n",
       "<style scoped>\n",
       "    .dataframe tbody tr th:only-of-type {\n",
       "        vertical-align: middle;\n",
       "    }\n",
       "\n",
       "    .dataframe tbody tr th {\n",
       "        vertical-align: top;\n",
       "    }\n",
       "\n",
       "    .dataframe thead th {\n",
       "        text-align: right;\n",
       "    }\n",
       "</style>\n",
       "<table border=\"1\" class=\"dataframe\">\n",
       "  <thead>\n",
       "    <tr style=\"text-align: right;\">\n",
       "      <th></th>\n",
       "      <th>heart_disease</th>\n",
       "      <th>id</th>\n",
       "    </tr>\n",
       "  </thead>\n",
       "  <tbody>\n",
       "    <tr>\n",
       "      <th>0</th>\n",
       "      <td>0</td>\n",
       "      <td>59045</td>\n",
       "    </tr>\n",
       "    <tr>\n",
       "      <th>1</th>\n",
       "      <td>1</td>\n",
       "      <td>2956</td>\n",
       "    </tr>\n",
       "  </tbody>\n",
       "</table>\n",
       "</div>"
      ],
      "text/plain": [
       "   heart_disease     id\n",
       "0              0  59045\n",
       "1              1   2956"
      ]
     },
     "execution_count": 18,
     "metadata": {},
     "output_type": "execute_result"
    }
   ],
   "source": [
    "heart_disease_count = data.groupby(by='heart_disease', as_index=False).agg({'id': pd.Series.nunique})\n",
    "heart_disease_count"
   ]
  },
  {
   "cell_type": "markdown",
   "metadata": {},
   "source": [
    "Plot the presence of heart disease by gender. 0 indicates no heart disease while 1 indicates heart disease."
   ]
  },
  {
   "cell_type": "code",
   "execution_count": 19,
   "metadata": {},
   "outputs": [
    {
     "data": {
      "text/plain": [
       "<AxesSubplot:xlabel='heart_disease', ylabel='count'>"
      ]
     },
     "execution_count": 19,
     "metadata": {},
     "output_type": "execute_result"
    },
    {
     "data": {
      "image/png": "[encoded data removed]",
      "text/plain": [
       "<Figure size 432x288 with 1 Axes>"
      ]
     },
     "metadata": {},
     "output_type": "display_data"
    }
   ],
   "source": [
    "sns.set_style(\"ticks\", {\"xtick.major.size\": 12, \"ytick.major.size\": 12})\n",
    "sns.countplot(x='heart_disease',hue='gender',data=data)"
   ]
  },
  {
   "cell_type": "code",
   "execution_count": 20,
   "metadata": {},
   "outputs": [
    {
     "data": {
      "text/html": [
       "<div>\n",
       "<style scoped>\n",
       "    .dataframe tbody tr th:only-of-type {\n",
       "        vertical-align: middle;\n",
       "    }\n",
       "\n",
       "    .dataframe tbody tr th {\n",
       "        vertical-align: top;\n",
       "    }\n",
       "\n",
       "    .dataframe thead th {\n",
       "        text-align: right;\n",
       "    }\n",
       "</style>\n",
       "<table border=\"1\" class=\"dataframe\">\n",
       "  <thead>\n",
       "    <tr style=\"text-align: right;\">\n",
       "      <th></th>\n",
       "      <th>ever_married</th>\n",
       "      <th>id</th>\n",
       "    </tr>\n",
       "  </thead>\n",
       "  <tbody>\n",
       "    <tr>\n",
       "      <th>0</th>\n",
       "      <td>No</td>\n",
       "      <td>22124</td>\n",
       "    </tr>\n",
       "    <tr>\n",
       "      <th>1</th>\n",
       "      <td>Yes</td>\n",
       "      <td>39877</td>\n",
       "    </tr>\n",
       "  </tbody>\n",
       "</table>\n",
       "</div>"
      ],
      "text/plain": [
       "  ever_married     id\n",
       "0           No  22124\n",
       "1          Yes  39877"
      ]
     },
     "execution_count": 20,
     "metadata": {},
     "output_type": "execute_result"
    }
   ],
   "source": [
    "ever_married_count = data.groupby(by='ever_married', as_index=False).agg({'id': pd.Series.nunique})\n",
    "ever_married_count"
   ]
  },
  {
   "cell_type": "markdown",
   "metadata": {},
   "source": [
    "Plot marital status ('ever_married') by gender."
   ]
  },
  {
   "cell_type": "code",
   "execution_count": 21,
   "metadata": {},
   "outputs": [
    {
     "data": {
      "text/plain": [
       "<AxesSubplot:xlabel='ever_married', ylabel='count'>"
      ]
     },
     "execution_count": 21,
     "metadata": {},
     "output_type": "execute_result"
    },
    {
     "data": {
      "image/png": "[encoded data removed]",
      "text/plain": [
       "<Figure size 432x288 with 1 Axes>"
      ]
     },
     "metadata": {},
     "output_type": "display_data"
    }
   ],
   "source": [
    "sns.set_style(\"ticks\", {\"xtick.major.size\": 12, \"ytick.major.size\": 12})\n",
    "sns.countplot(x='ever_married',hue='gender',data=data)"
   ]
  },
  {
   "cell_type": "code",
   "execution_count": 22,
   "metadata": {},
   "outputs": [
    {
     "data": {
      "text/html": [
       "<div>\n",
       "<style scoped>\n",
       "    .dataframe tbody tr th:only-of-type {\n",
       "        vertical-align: middle;\n",
       "    }\n",
       "\n",
       "    .dataframe tbody tr th {\n",
       "        vertical-align: top;\n",
       "    }\n",
       "\n",
       "    .dataframe thead th {\n",
       "        text-align: right;\n",
       "    }\n",
       "</style>\n",
       "<table border=\"1\" class=\"dataframe\">\n",
       "  <thead>\n",
       "    <tr style=\"text-align: right;\">\n",
       "      <th></th>\n",
       "      <th>work_type</th>\n",
       "      <th>id</th>\n",
       "    </tr>\n",
       "  </thead>\n",
       "  <tbody>\n",
       "    <tr>\n",
       "      <th>0</th>\n",
       "      <td>Govt_job</td>\n",
       "      <td>7742</td>\n",
       "    </tr>\n",
       "    <tr>\n",
       "      <th>1</th>\n",
       "      <td>Never_worked</td>\n",
       "      <td>252</td>\n",
       "    </tr>\n",
       "    <tr>\n",
       "      <th>2</th>\n",
       "      <td>Private</td>\n",
       "      <td>35584</td>\n",
       "    </tr>\n",
       "    <tr>\n",
       "      <th>3</th>\n",
       "      <td>Self-employed</td>\n",
       "      <td>9654</td>\n",
       "    </tr>\n",
       "    <tr>\n",
       "      <th>4</th>\n",
       "      <td>children</td>\n",
       "      <td>8769</td>\n",
       "    </tr>\n",
       "  </tbody>\n",
       "</table>\n",
       "</div>"
      ],
      "text/plain": [
       "       work_type     id\n",
       "0       Govt_job   7742\n",
       "1   Never_worked    252\n",
       "2        Private  35584\n",
       "3  Self-employed   9654\n",
       "4       children   8769"
      ]
     },
     "execution_count": 22,
     "metadata": {},
     "output_type": "execute_result"
    }
   ],
   "source": [
    "work_type_count = data.groupby(by='work_type', as_index=False).agg({'id': pd.Series.nunique})\n",
    "work_type_count"
   ]
  },
  {
   "cell_type": "markdown",
   "metadata": {},
   "source": [
    "Plot type of work by gender."
   ]
  },
  {
   "cell_type": "code",
   "execution_count": 23,
   "metadata": {},
   "outputs": [
    {
     "data": {
      "text/plain": [
       "<AxesSubplot:xlabel='work_type', ylabel='count'>"
      ]
     },
     "execution_count": 23,
     "metadata": {},
     "output_type": "execute_result"
    },
    {
     "data": {
      "image/png": "[encoded data removed]",
      "text/plain": [
       "<Figure size 720x360 with 1 Axes>"
      ]
     },
     "metadata": {},
     "output_type": "display_data"
    }
   ],
   "source": [
    "plt.figure(figsize=(10,5))\n",
    "sns.set_style(\"ticks\", {\"xtick.major.size\": 12, \"ytick.major.size\": 12})\n",
    "sns.countplot(x='work_type',hue='gender',data=data)"
   ]
  },
  {
   "cell_type": "markdown",
   "metadata": {},
   "source": [
    "Group ID's by Residence_type."
   ]
  },
  {
   "cell_type": "code",
   "execution_count": 24,
   "metadata": {},
   "outputs": [
    {
     "data": {
      "text/html": [
       "<div>\n",
       "<style scoped>\n",
       "    .dataframe tbody tr th:only-of-type {\n",
       "        vertical-align: middle;\n",
       "    }\n",
       "\n",
       "    .dataframe tbody tr th {\n",
       "        vertical-align: top;\n",
       "    }\n",
       "\n",
       "    .dataframe thead th {\n",
       "        text-align: right;\n",
       "    }\n",
       "</style>\n",
       "<table border=\"1\" class=\"dataframe\">\n",
       "  <thead>\n",
       "    <tr style=\"text-align: right;\">\n",
       "      <th></th>\n",
       "      <th>Residence_type</th>\n",
       "      <th>id</th>\n",
       "    </tr>\n",
       "  </thead>\n",
       "  <tbody>\n",
       "    <tr>\n",
       "      <th>0</th>\n",
       "      <td>Rural</td>\n",
       "      <td>30935</td>\n",
       "    </tr>\n",
       "    <tr>\n",
       "      <th>1</th>\n",
       "      <td>Urban</td>\n",
       "      <td>31066</td>\n",
       "    </tr>\n",
       "  </tbody>\n",
       "</table>\n",
       "</div>"
      ],
      "text/plain": [
       "  Residence_type     id\n",
       "0          Rural  30935\n",
       "1          Urban  31066"
      ]
     },
     "execution_count": 24,
     "metadata": {},
     "output_type": "execute_result"
    }
   ],
   "source": [
    "Residence_type_count = data.groupby(by='Residence_type', as_index=False).agg({'id': pd.Series.nunique})\n",
    "Residence_type_count"
   ]
  },
  {
   "cell_type": "markdown",
   "metadata": {},
   "source": [
    "Plot a histogram for avg_glucose_level by gender."
   ]
  },
  {
   "cell_type": "code",
   "execution_count": 25,
   "metadata": {},
   "outputs": [
    {
     "data": {
      "text/plain": [
       "<AxesSubplot:xlabel='avg_glucose_level', ylabel='Count'>"
      ]
     },
     "execution_count": 25,
     "metadata": {},
     "output_type": "execute_result"
    },
    {
     "data": {
      "image/png": "[encoded data removed]",
      "text/plain": [
       "<Figure size 720x360 with 1 Axes>"
      ]
     },
     "metadata": {},
     "output_type": "display_data"
    }
   ],
   "source": [
    "plt.figure(figsize=(10,5))\n",
    "plt.rcParams.update({'font.size': 12, 'axes.labelsize': 12})\n",
    "sns.histplot(x='avg_glucose_level',hue='gender',data=data)"
   ]
  },
  {
   "cell_type": "markdown",
   "metadata": {},
   "source": [
    "Plot a histogram for BMI by gender."
   ]
  },
  {
   "cell_type": "code",
   "execution_count": 26,
   "metadata": {},
   "outputs": [
    {
     "data": {
      "text/plain": [
       "<AxesSubplot:xlabel='bmi', ylabel='Count'>"
      ]
     },
     "execution_count": 26,
     "metadata": {},
     "output_type": "execute_result"
    },
    {
     "data": {
      "image/png": "[encoded data removed]",
      "text/plain": [
       "<Figure size 720x360 with 1 Axes>"
      ]
     },
     "metadata": {},
     "output_type": "display_data"
    }
   ],
   "source": [
    "plt.figure(figsize=(10,5))\n",
    "plt.rcParams.update({'font.size': 12, 'axes.labelsize': 12})\n",
    "sns.histplot(x='bmi',hue='gender',data=data)"
   ]
  },
  {
   "cell_type": "markdown",
   "metadata": {},
   "source": [
    "Group ID's by smoking_status."
   ]
  },
  {
   "cell_type": "code",
   "execution_count": 27,
   "metadata": {},
   "outputs": [
    {
     "data": {
      "text/html": [
       "<div>\n",
       "<style scoped>\n",
       "    .dataframe tbody tr th:only-of-type {\n",
       "        vertical-align: middle;\n",
       "    }\n",
       "\n",
       "    .dataframe tbody tr th {\n",
       "        vertical-align: top;\n",
       "    }\n",
       "\n",
       "    .dataframe thead th {\n",
       "        text-align: right;\n",
       "    }\n",
       "</style>\n",
       "<table border=\"1\" class=\"dataframe\">\n",
       "  <thead>\n",
       "    <tr style=\"text-align: right;\">\n",
       "      <th></th>\n",
       "      <th>smoking_status</th>\n",
       "      <th>id</th>\n",
       "    </tr>\n",
       "  </thead>\n",
       "  <tbody>\n",
       "    <tr>\n",
       "      <th>0</th>\n",
       "      <td>formerly smoked</td>\n",
       "      <td>10753</td>\n",
       "    </tr>\n",
       "    <tr>\n",
       "      <th>1</th>\n",
       "      <td>never smoked</td>\n",
       "      <td>22886</td>\n",
       "    </tr>\n",
       "    <tr>\n",
       "      <th>2</th>\n",
       "      <td>smokes</td>\n",
       "      <td>9319</td>\n",
       "    </tr>\n",
       "  </tbody>\n",
       "</table>\n",
       "</div>"
      ],
      "text/plain": [
       "    smoking_status     id\n",
       "0  formerly smoked  10753\n",
       "1     never smoked  22886\n",
       "2           smokes   9319"
      ]
     },
     "execution_count": 27,
     "metadata": {},
     "output_type": "execute_result"
    }
   ],
   "source": [
    "smoking_status_count = data.groupby(by='smoking_status', as_index=False).agg({'id': pd.Series.nunique})\n",
    "smoking_status_count"
   ]
  },
  {
   "cell_type": "markdown",
   "metadata": {},
   "source": [
    "Group ID's by stroke_count."
   ]
  },
  {
   "cell_type": "code",
   "execution_count": 28,
   "metadata": {},
   "outputs": [
    {
     "data": {
      "text/html": [
       "<div>\n",
       "<style scoped>\n",
       "    .dataframe tbody tr th:only-of-type {\n",
       "        vertical-align: middle;\n",
       "    }\n",
       "\n",
       "    .dataframe tbody tr th {\n",
       "        vertical-align: top;\n",
       "    }\n",
       "\n",
       "    .dataframe thead th {\n",
       "        text-align: right;\n",
       "    }\n",
       "</style>\n",
       "<table border=\"1\" class=\"dataframe\">\n",
       "  <thead>\n",
       "    <tr style=\"text-align: right;\">\n",
       "      <th></th>\n",
       "      <th>stroke</th>\n",
       "      <th>id</th>\n",
       "    </tr>\n",
       "  </thead>\n",
       "  <tbody>\n",
       "    <tr>\n",
       "      <th>0</th>\n",
       "      <td>0.0</td>\n",
       "      <td>42617</td>\n",
       "    </tr>\n",
       "    <tr>\n",
       "      <th>1</th>\n",
       "      <td>1.0</td>\n",
       "      <td>783</td>\n",
       "    </tr>\n",
       "  </tbody>\n",
       "</table>\n",
       "</div>"
      ],
      "text/plain": [
       "   stroke     id\n",
       "0     0.0  42617\n",
       "1     1.0    783"
      ]
     },
     "execution_count": 28,
     "metadata": {},
     "output_type": "execute_result"
    }
   ],
   "source": [
    "stroke_count = data.groupby(by='stroke', as_index=False).agg({'id': pd.Series.nunique})\n",
    "stroke_count"
   ]
  },
  {
   "cell_type": "markdown",
   "metadata": {},
   "source": [
    "Drop the ID column cause we don't need ID as a predictor for our models."
   ]
  },
  {
   "cell_type": "code",
   "execution_count": 29,
   "metadata": {},
   "outputs": [],
   "source": [
    "data = data.drop(data.columns[0], axis=1)"
   ]
  },
  {
   "cell_type": "markdown",
   "metadata": {},
   "source": [
    "Drop nan values in dataset."
   ]
  },
  {
   "cell_type": "code",
   "execution_count": 30,
   "metadata": {},
   "outputs": [],
   "source": [
    "data = data.dropna()"
   ]
  },
  {
   "cell_type": "markdown",
   "metadata": {},
   "source": [
    "Convert the stroke value to an integer so that it can work as a label to be predicted."
   ]
  },
  {
   "cell_type": "code",
   "execution_count": 31,
   "metadata": {},
   "outputs": [],
   "source": [
    "data['stroke'] = data['stroke'].apply(np.int64)"
   ]
  },
  {
   "cell_type": "code",
   "execution_count": 32,
   "metadata": {},
   "outputs": [],
   "source": [
    "dataset = data"
   ]
  },
  {
   "cell_type": "code",
   "execution_count": 33,
   "metadata": {},
   "outputs": [
    {
     "data": {
      "text/html": [
       "<div>\n",
       "<style scoped>\n",
       "    .dataframe tbody tr th:only-of-type {\n",
       "        vertical-align: middle;\n",
       "    }\n",
       "\n",
       "    .dataframe tbody tr th {\n",
       "        vertical-align: top;\n",
       "    }\n",
       "\n",
       "    .dataframe thead th {\n",
       "        text-align: right;\n",
       "    }\n",
       "</style>\n",
       "<table border=\"1\" class=\"dataframe\">\n",
       "  <thead>\n",
       "    <tr style=\"text-align: right;\">\n",
       "      <th></th>\n",
       "      <th>gender</th>\n",
       "      <th>age</th>\n",
       "      <th>hypertension</th>\n",
       "      <th>heart_disease</th>\n",
       "      <th>ever_married</th>\n",
       "      <th>work_type</th>\n",
       "      <th>Residence_type</th>\n",
       "      <th>avg_glucose_level</th>\n",
       "      <th>bmi</th>\n",
       "      <th>smoking_status</th>\n",
       "      <th>stroke</th>\n",
       "    </tr>\n",
       "  </thead>\n",
       "  <tbody>\n",
       "    <tr>\n",
       "      <th>1</th>\n",
       "      <td>Male</td>\n",
       "      <td>58.0</td>\n",
       "      <td>1</td>\n",
       "      <td>0</td>\n",
       "      <td>Yes</td>\n",
       "      <td>Private</td>\n",
       "      <td>Urban</td>\n",
       "      <td>87.96</td>\n",
       "      <td>39.2</td>\n",
       "      <td>never smoked</td>\n",
       "      <td>0</td>\n",
       "    </tr>\n",
       "    <tr>\n",
       "      <th>3</th>\n",
       "      <td>Female</td>\n",
       "      <td>70.0</td>\n",
       "      <td>0</td>\n",
       "      <td>0</td>\n",
       "      <td>Yes</td>\n",
       "      <td>Private</td>\n",
       "      <td>Rural</td>\n",
       "      <td>69.04</td>\n",
       "      <td>35.9</td>\n",
       "      <td>formerly smoked</td>\n",
       "      <td>0</td>\n",
       "    </tr>\n",
       "    <tr>\n",
       "      <th>6</th>\n",
       "      <td>Female</td>\n",
       "      <td>52.0</td>\n",
       "      <td>0</td>\n",
       "      <td>0</td>\n",
       "      <td>Yes</td>\n",
       "      <td>Private</td>\n",
       "      <td>Urban</td>\n",
       "      <td>77.59</td>\n",
       "      <td>17.7</td>\n",
       "      <td>formerly smoked</td>\n",
       "      <td>0</td>\n",
       "    </tr>\n",
       "    <tr>\n",
       "      <th>7</th>\n",
       "      <td>Female</td>\n",
       "      <td>75.0</td>\n",
       "      <td>0</td>\n",
       "      <td>1</td>\n",
       "      <td>Yes</td>\n",
       "      <td>Self-employed</td>\n",
       "      <td>Rural</td>\n",
       "      <td>243.53</td>\n",
       "      <td>27.0</td>\n",
       "      <td>never smoked</td>\n",
       "      <td>0</td>\n",
       "    </tr>\n",
       "    <tr>\n",
       "      <th>8</th>\n",
       "      <td>Female</td>\n",
       "      <td>32.0</td>\n",
       "      <td>0</td>\n",
       "      <td>0</td>\n",
       "      <td>Yes</td>\n",
       "      <td>Private</td>\n",
       "      <td>Rural</td>\n",
       "      <td>77.67</td>\n",
       "      <td>32.3</td>\n",
       "      <td>smokes</td>\n",
       "      <td>0</td>\n",
       "    </tr>\n",
       "  </tbody>\n",
       "</table>\n",
       "</div>"
      ],
      "text/plain": [
       "   gender   age  hypertension  heart_disease ever_married      work_type  \\\n",
       "1    Male  58.0             1              0          Yes        Private   \n",
       "3  Female  70.0             0              0          Yes        Private   \n",
       "6  Female  52.0             0              0          Yes        Private   \n",
       "7  Female  75.0             0              1          Yes  Self-employed   \n",
       "8  Female  32.0             0              0          Yes        Private   \n",
       "\n",
       "  Residence_type  avg_glucose_level   bmi   smoking_status  stroke  \n",
       "1          Urban              87.96  39.2     never smoked       0  \n",
       "3          Rural              69.04  35.9  formerly smoked       0  \n",
       "6          Urban              77.59  17.7  formerly smoked       0  \n",
       "7          Rural             243.53  27.0     never smoked       0  \n",
       "8          Rural              77.67  32.3           smokes       0  "
      ]
     },
     "execution_count": 33,
     "metadata": {},
     "output_type": "execute_result"
    }
   ],
   "source": [
    "dataset.head()"
   ]
  },
  {
   "cell_type": "code",
   "execution_count": 34,
   "metadata": {},
   "outputs": [
    {
     "data": {
      "text/plain": [
       "(29072, 11)"
      ]
     },
     "execution_count": 34,
     "metadata": {},
     "output_type": "execute_result"
    }
   ],
   "source": [
    "dataset.shape"
   ]
  },
  {
   "cell_type": "markdown",
   "metadata": {},
   "source": [
    "** The commentary for the following portion using PyCaret for machine learning has been adapted from the PyCaret tutorial page for binary classification. Some comments have been shortened for clarity but full details can be found here: https://github.com/pycaret/pycaret/blob/master/tutorials/Binary%20Classification%20Tutorial%20Level%20Beginner%20-%20%20CLF101.ipynb"
   ]
  },
  {
   "cell_type": "markdown",
   "metadata": {},
   "source": [
    "In order to demonstrate the predict_model() function on unseen data, a sample of records has been withheld from the original dataset to be used for predictions. This should not be confused with a train/test split as this particular split is performed to simulate a real life scenario. Another way to think about this is that these records are not available at the time when the machine learning experiment was performed."
   ]
  },
  {
   "cell_type": "code",
   "execution_count": 35,
   "metadata": {},
   "outputs": [
    {
     "name": "stdout",
     "output_type": "stream",
     "text": [
      "Data for Modeling: (27618, 11)\n",
      "Unseen Data For Predictions: (1454, 11)\n"
     ]
    }
   ],
   "source": [
    "data = dataset.sample(frac=0.95, random_state=786)\n",
    "data_unseen = dataset.drop(data.index)\n",
    "data.reset_index(inplace=True, drop=True)\n",
    "data_unseen.reset_index(inplace=True, drop=True)\n",
    "print('Data for Modeling: ' + str(data.shape))\n",
    "print('Unseen Data For Predictions: ' + str(data_unseen.shape))"
   ]
  },
  {
   "cell_type": "markdown",
   "metadata": {},
   "source": [
    "The setup() function initializes the environment in pycaret and creates the transformation pipeline to prepare the data for modeling and deployment. setup() must be called before executing any other function in pycaret. It takes two mandatory parameters: a pandas dataframe and the name of the target column. All other parameters are optional and are used to customize the pre-processing pipeline (we will see them in later tutorials).\n",
    "\n",
    "When setup() is executed, PyCaret's inference algorithm will automatically infer the data types for all features based on certain properties. The data type should be inferred correctly but this is not always the case. To account for this, PyCaret displays a table containing the features and their inferred data types after setup() is executed. If all of the data types are correctly identified enter can be pressed to continue or quit can be typed to end the expriment. Ensuring that the data types are correct is of fundamental importance in PyCaret as it automatically performs a few pre-processing tasks which are imperative to any machine learning experiment. These tasks are performed differently for each data type which means it is very important for them to be correctly configured."
   ]
  },
  {
   "cell_type": "code",
   "execution_count": 36,
   "metadata": {},
   "outputs": [],
   "source": [
    "from pycaret.classification import *"
   ]
  },
  {
   "cell_type": "code",
   "execution_count": 37,
   "metadata": {},
   "outputs": [
    {
     "data": {
      "text/html": [
       "<style  type=\"text/css\" >\n",
       "</style><table id=\"T_9d014ba7_c935_11eb_bf0c_10bf4887320c\" ><thead>    <tr>        <th class=\"blank level0\" ></th>        <th class=\"col_heading level0 col0\" >Description</th>        <th class=\"col_heading level0 col1\" >Value</th>    </tr></thead><tbody>\n",
       "                <tr>\n",
       "                        <th id=\"T_9d014ba7_c935_11eb_bf0c_10bf4887320clevel0_row0\" class=\"row_heading level0 row0\" >0</th>\n",
       "                        <td id=\"T_9d014ba7_c935_11eb_bf0c_10bf4887320crow0_col0\" class=\"data row0 col0\" >session_id</td>\n",
       "                        <td id=\"T_9d014ba7_c935_11eb_bf0c_10bf4887320crow0_col1\" class=\"data row0 col1\" >123</td>\n",
       "            </tr>\n",
       "            <tr>\n",
       "                        <th id=\"T_9d014ba7_c935_11eb_bf0c_10bf4887320clevel0_row1\" class=\"row_heading level0 row1\" >1</th>\n",
       "                        <td id=\"T_9d014ba7_c935_11eb_bf0c_10bf4887320crow1_col0\" class=\"data row1 col0\" >Target</td>\n",
       "                        <td id=\"T_9d014ba7_c935_11eb_bf0c_10bf4887320crow1_col1\" class=\"data row1 col1\" >stroke</td>\n",
       "            </tr>\n",
       "            <tr>\n",
       "                        <th id=\"T_9d014ba7_c935_11eb_bf0c_10bf4887320clevel0_row2\" class=\"row_heading level0 row2\" >2</th>\n",
       "                        <td id=\"T_9d014ba7_c935_11eb_bf0c_10bf4887320crow2_col0\" class=\"data row2 col0\" >Target Type</td>\n",
       "                        <td id=\"T_9d014ba7_c935_11eb_bf0c_10bf4887320crow2_col1\" class=\"data row2 col1\" >Binary</td>\n",
       "            </tr>\n",
       "            <tr>\n",
       "                        <th id=\"T_9d014ba7_c935_11eb_bf0c_10bf4887320clevel0_row3\" class=\"row_heading level0 row3\" >3</th>\n",
       "                        <td id=\"T_9d014ba7_c935_11eb_bf0c_10bf4887320crow3_col0\" class=\"data row3 col0\" >Label Encoded</td>\n",
       "                        <td id=\"T_9d014ba7_c935_11eb_bf0c_10bf4887320crow3_col1\" class=\"data row3 col1\" >0: 0, 1: 1</td>\n",
       "            </tr>\n",
       "            <tr>\n",
       "                        <th id=\"T_9d014ba7_c935_11eb_bf0c_10bf4887320clevel0_row4\" class=\"row_heading level0 row4\" >4</th>\n",
       "                        <td id=\"T_9d014ba7_c935_11eb_bf0c_10bf4887320crow4_col0\" class=\"data row4 col0\" >Original Data</td>\n",
       "                        <td id=\"T_9d014ba7_c935_11eb_bf0c_10bf4887320crow4_col1\" class=\"data row4 col1\" >(27618, 11)</td>\n",
       "            </tr>\n",
       "            <tr>\n",
       "                        <th id=\"T_9d014ba7_c935_11eb_bf0c_10bf4887320clevel0_row5\" class=\"row_heading level0 row5\" >5</th>\n",
       "                        <td id=\"T_9d014ba7_c935_11eb_bf0c_10bf4887320crow5_col0\" class=\"data row5 col0\" >Missing Values</td>\n",
       "                        <td id=\"T_9d014ba7_c935_11eb_bf0c_10bf4887320crow5_col1\" class=\"data row5 col1\" >False</td>\n",
       "            </tr>\n",
       "            <tr>\n",
       "                        <th id=\"T_9d014ba7_c935_11eb_bf0c_10bf4887320clevel0_row6\" class=\"row_heading level0 row6\" >6</th>\n",
       "                        <td id=\"T_9d014ba7_c935_11eb_bf0c_10bf4887320crow6_col0\" class=\"data row6 col0\" >Numeric Features</td>\n",
       "                        <td id=\"T_9d014ba7_c935_11eb_bf0c_10bf4887320crow6_col1\" class=\"data row6 col1\" >3</td>\n",
       "            </tr>\n",
       "            <tr>\n",
       "                        <th id=\"T_9d014ba7_c935_11eb_bf0c_10bf4887320clevel0_row7\" class=\"row_heading level0 row7\" >7</th>\n",
       "                        <td id=\"T_9d014ba7_c935_11eb_bf0c_10bf4887320crow7_col0\" class=\"data row7 col0\" >Categorical Features</td>\n",
       "                        <td id=\"T_9d014ba7_c935_11eb_bf0c_10bf4887320crow7_col1\" class=\"data row7 col1\" >7</td>\n",
       "            </tr>\n",
       "            <tr>\n",
       "                        <th id=\"T_9d014ba7_c935_11eb_bf0c_10bf4887320clevel0_row8\" class=\"row_heading level0 row8\" >8</th>\n",
       "                        <td id=\"T_9d014ba7_c935_11eb_bf0c_10bf4887320crow8_col0\" class=\"data row8 col0\" >Ordinal Features</td>\n",
       "                        <td id=\"T_9d014ba7_c935_11eb_bf0c_10bf4887320crow8_col1\" class=\"data row8 col1\" >False</td>\n",
       "            </tr>\n",
       "            <tr>\n",
       "                        <th id=\"T_9d014ba7_c935_11eb_bf0c_10bf4887320clevel0_row9\" class=\"row_heading level0 row9\" >9</th>\n",
       "                        <td id=\"T_9d014ba7_c935_11eb_bf0c_10bf4887320crow9_col0\" class=\"data row9 col0\" >High Cardinality Features</td>\n",
       "                        <td id=\"T_9d014ba7_c935_11eb_bf0c_10bf4887320crow9_col1\" class=\"data row9 col1\" >False</td>\n",
       "            </tr>\n",
       "            <tr>\n",
       "                        <th id=\"T_9d014ba7_c935_11eb_bf0c_10bf4887320clevel0_row10\" class=\"row_heading level0 row10\" >10</th>\n",
       "                        <td id=\"T_9d014ba7_c935_11eb_bf0c_10bf4887320crow10_col0\" class=\"data row10 col0\" >High Cardinality Method</td>\n",
       "                        <td id=\"T_9d014ba7_c935_11eb_bf0c_10bf4887320crow10_col1\" class=\"data row10 col1\" >None</td>\n",
       "            </tr>\n",
       "            <tr>\n",
       "                        <th id=\"T_9d014ba7_c935_11eb_bf0c_10bf4887320clevel0_row11\" class=\"row_heading level0 row11\" >11</th>\n",
       "                        <td id=\"T_9d014ba7_c935_11eb_bf0c_10bf4887320crow11_col0\" class=\"data row11 col0\" >Transformed Train Set</td>\n",
       "                        <td id=\"T_9d014ba7_c935_11eb_bf0c_10bf4887320crow11_col1\" class=\"data row11 col1\" >(19332, 17)</td>\n",
       "            </tr>\n",
       "            <tr>\n",
       "                        <th id=\"T_9d014ba7_c935_11eb_bf0c_10bf4887320clevel0_row12\" class=\"row_heading level0 row12\" >12</th>\n",
       "                        <td id=\"T_9d014ba7_c935_11eb_bf0c_10bf4887320crow12_col0\" class=\"data row12 col0\" >Transformed Test Set</td>\n",
       "                        <td id=\"T_9d014ba7_c935_11eb_bf0c_10bf4887320crow12_col1\" class=\"data row12 col1\" >(8286, 17)</td>\n",
       "            </tr>\n",
       "            <tr>\n",
       "                        <th id=\"T_9d014ba7_c935_11eb_bf0c_10bf4887320clevel0_row13\" class=\"row_heading level0 row13\" >13</th>\n",
       "                        <td id=\"T_9d014ba7_c935_11eb_bf0c_10bf4887320crow13_col0\" class=\"data row13 col0\" >Shuffle Train-Test</td>\n",
       "                        <td id=\"T_9d014ba7_c935_11eb_bf0c_10bf4887320crow13_col1\" class=\"data row13 col1\" >True</td>\n",
       "            </tr>\n",
       "            <tr>\n",
       "                        <th id=\"T_9d014ba7_c935_11eb_bf0c_10bf4887320clevel0_row14\" class=\"row_heading level0 row14\" >14</th>\n",
       "                        <td id=\"T_9d014ba7_c935_11eb_bf0c_10bf4887320crow14_col0\" class=\"data row14 col0\" >Stratify Train-Test</td>\n",
       "                        <td id=\"T_9d014ba7_c935_11eb_bf0c_10bf4887320crow14_col1\" class=\"data row14 col1\" >False</td>\n",
       "            </tr>\n",
       "            <tr>\n",
       "                        <th id=\"T_9d014ba7_c935_11eb_bf0c_10bf4887320clevel0_row15\" class=\"row_heading level0 row15\" >15</th>\n",
       "                        <td id=\"T_9d014ba7_c935_11eb_bf0c_10bf4887320crow15_col0\" class=\"data row15 col0\" >Fold Generator</td>\n",
       "                        <td id=\"T_9d014ba7_c935_11eb_bf0c_10bf4887320crow15_col1\" class=\"data row15 col1\" >StratifiedKFold</td>\n",
       "            </tr>\n",
       "            <tr>\n",
       "                        <th id=\"T_9d014ba7_c935_11eb_bf0c_10bf4887320clevel0_row16\" class=\"row_heading level0 row16\" >16</th>\n",
       "                        <td id=\"T_9d014ba7_c935_11eb_bf0c_10bf4887320crow16_col0\" class=\"data row16 col0\" >Fold Number</td>\n",
       "                        <td id=\"T_9d014ba7_c935_11eb_bf0c_10bf4887320crow16_col1\" class=\"data row16 col1\" >10</td>\n",
       "            </tr>\n",
       "            <tr>\n",
       "                        <th id=\"T_9d014ba7_c935_11eb_bf0c_10bf4887320clevel0_row17\" class=\"row_heading level0 row17\" >17</th>\n",
       "                        <td id=\"T_9d014ba7_c935_11eb_bf0c_10bf4887320crow17_col0\" class=\"data row17 col0\" >CPU Jobs</td>\n",
       "                        <td id=\"T_9d014ba7_c935_11eb_bf0c_10bf4887320crow17_col1\" class=\"data row17 col1\" >-1</td>\n",
       "            </tr>\n",
       "            <tr>\n",
       "                        <th id=\"T_9d014ba7_c935_11eb_bf0c_10bf4887320clevel0_row18\" class=\"row_heading level0 row18\" >18</th>\n",
       "                        <td id=\"T_9d014ba7_c935_11eb_bf0c_10bf4887320crow18_col0\" class=\"data row18 col0\" >Use GPU</td>\n",
       "                        <td id=\"T_9d014ba7_c935_11eb_bf0c_10bf4887320crow18_col1\" class=\"data row18 col1\" >False</td>\n",
       "            </tr>\n",
       "            <tr>\n",
       "                        <th id=\"T_9d014ba7_c935_11eb_bf0c_10bf4887320clevel0_row19\" class=\"row_heading level0 row19\" >19</th>\n",
       "                        <td id=\"T_9d014ba7_c935_11eb_bf0c_10bf4887320crow19_col0\" class=\"data row19 col0\" >Log Experiment</td>\n",
       "                        <td id=\"T_9d014ba7_c935_11eb_bf0c_10bf4887320crow19_col1\" class=\"data row19 col1\" >False</td>\n",
       "            </tr>\n",
       "            <tr>\n",
       "                        <th id=\"T_9d014ba7_c935_11eb_bf0c_10bf4887320clevel0_row20\" class=\"row_heading level0 row20\" >20</th>\n",
       "                        <td id=\"T_9d014ba7_c935_11eb_bf0c_10bf4887320crow20_col0\" class=\"data row20 col0\" >Experiment Name</td>\n",
       "                        <td id=\"T_9d014ba7_c935_11eb_bf0c_10bf4887320crow20_col1\" class=\"data row20 col1\" >clf-default-name</td>\n",
       "            </tr>\n",
       "            <tr>\n",
       "                        <th id=\"T_9d014ba7_c935_11eb_bf0c_10bf4887320clevel0_row21\" class=\"row_heading level0 row21\" >21</th>\n",
       "                        <td id=\"T_9d014ba7_c935_11eb_bf0c_10bf4887320crow21_col0\" class=\"data row21 col0\" >USI</td>\n",
       "                        <td id=\"T_9d014ba7_c935_11eb_bf0c_10bf4887320crow21_col1\" class=\"data row21 col1\" >401e</td>\n",
       "            </tr>\n",
       "            <tr>\n",
       "                        <th id=\"T_9d014ba7_c935_11eb_bf0c_10bf4887320clevel0_row22\" class=\"row_heading level0 row22\" >22</th>\n",
       "                        <td id=\"T_9d014ba7_c935_11eb_bf0c_10bf4887320crow22_col0\" class=\"data row22 col0\" >Imputation Type</td>\n",
       "                        <td id=\"T_9d014ba7_c935_11eb_bf0c_10bf4887320crow22_col1\" class=\"data row22 col1\" >simple</td>\n",
       "            </tr>\n",
       "            <tr>\n",
       "                        <th id=\"T_9d014ba7_c935_11eb_bf0c_10bf4887320clevel0_row23\" class=\"row_heading level0 row23\" >23</th>\n",
       "                        <td id=\"T_9d014ba7_c935_11eb_bf0c_10bf4887320crow23_col0\" class=\"data row23 col0\" >Iterative Imputation Iteration</td>\n",
       "                        <td id=\"T_9d014ba7_c935_11eb_bf0c_10bf4887320crow23_col1\" class=\"data row23 col1\" >None</td>\n",
       "            </tr>\n",
       "            <tr>\n",
       "                        <th id=\"T_9d014ba7_c935_11eb_bf0c_10bf4887320clevel0_row24\" class=\"row_heading level0 row24\" >24</th>\n",
       "                        <td id=\"T_9d014ba7_c935_11eb_bf0c_10bf4887320crow24_col0\" class=\"data row24 col0\" >Numeric Imputer</td>\n",
       "                        <td id=\"T_9d014ba7_c935_11eb_bf0c_10bf4887320crow24_col1\" class=\"data row24 col1\" >mean</td>\n",
       "            </tr>\n",
       "            <tr>\n",
       "                        <th id=\"T_9d014ba7_c935_11eb_bf0c_10bf4887320clevel0_row25\" class=\"row_heading level0 row25\" >25</th>\n",
       "                        <td id=\"T_9d014ba7_c935_11eb_bf0c_10bf4887320crow25_col0\" class=\"data row25 col0\" >Iterative Imputation Numeric Model</td>\n",
       "                        <td id=\"T_9d014ba7_c935_11eb_bf0c_10bf4887320crow25_col1\" class=\"data row25 col1\" >None</td>\n",
       "            </tr>\n",
       "            <tr>\n",
       "                        <th id=\"T_9d014ba7_c935_11eb_bf0c_10bf4887320clevel0_row26\" class=\"row_heading level0 row26\" >26</th>\n",
       "                        <td id=\"T_9d014ba7_c935_11eb_bf0c_10bf4887320crow26_col0\" class=\"data row26 col0\" >Categorical Imputer</td>\n",
       "                        <td id=\"T_9d014ba7_c935_11eb_bf0c_10bf4887320crow26_col1\" class=\"data row26 col1\" >constant</td>\n",
       "            </tr>\n",
       "            <tr>\n",
       "                        <th id=\"T_9d014ba7_c935_11eb_bf0c_10bf4887320clevel0_row27\" class=\"row_heading level0 row27\" >27</th>\n",
       "                        <td id=\"T_9d014ba7_c935_11eb_bf0c_10bf4887320crow27_col0\" class=\"data row27 col0\" >Iterative Imputation Categorical Model</td>\n",
       "                        <td id=\"T_9d014ba7_c935_11eb_bf0c_10bf4887320crow27_col1\" class=\"data row27 col1\" >None</td>\n",
       "            </tr>\n",
       "            <tr>\n",
       "                        <th id=\"T_9d014ba7_c935_11eb_bf0c_10bf4887320clevel0_row28\" class=\"row_heading level0 row28\" >28</th>\n",
       "                        <td id=\"T_9d014ba7_c935_11eb_bf0c_10bf4887320crow28_col0\" class=\"data row28 col0\" >Unknown Categoricals Handling</td>\n",
       "                        <td id=\"T_9d014ba7_c935_11eb_bf0c_10bf4887320crow28_col1\" class=\"data row28 col1\" >least_frequent</td>\n",
       "            </tr>\n",
       "            <tr>\n",
       "                        <th id=\"T_9d014ba7_c935_11eb_bf0c_10bf4887320clevel0_row29\" class=\"row_heading level0 row29\" >29</th>\n",
       "                        <td id=\"T_9d014ba7_c935_11eb_bf0c_10bf4887320crow29_col0\" class=\"data row29 col0\" >Normalize</td>\n",
       "                        <td id=\"T_9d014ba7_c935_11eb_bf0c_10bf4887320crow29_col1\" class=\"data row29 col1\" >False</td>\n",
       "            </tr>\n",
       "            <tr>\n",
       "                        <th id=\"T_9d014ba7_c935_11eb_bf0c_10bf4887320clevel0_row30\" class=\"row_heading level0 row30\" >30</th>\n",
       "                        <td id=\"T_9d014ba7_c935_11eb_bf0c_10bf4887320crow30_col0\" class=\"data row30 col0\" >Normalize Method</td>\n",
       "                        <td id=\"T_9d014ba7_c935_11eb_bf0c_10bf4887320crow30_col1\" class=\"data row30 col1\" >None</td>\n",
       "            </tr>\n",
       "            <tr>\n",
       "                        <th id=\"T_9d014ba7_c935_11eb_bf0c_10bf4887320clevel0_row31\" class=\"row_heading level0 row31\" >31</th>\n",
       "                        <td id=\"T_9d014ba7_c935_11eb_bf0c_10bf4887320crow31_col0\" class=\"data row31 col0\" >Transformation</td>\n",
       "                        <td id=\"T_9d014ba7_c935_11eb_bf0c_10bf4887320crow31_col1\" class=\"data row31 col1\" >False</td>\n",
       "            </tr>\n",
       "            <tr>\n",
       "                        <th id=\"T_9d014ba7_c935_11eb_bf0c_10bf4887320clevel0_row32\" class=\"row_heading level0 row32\" >32</th>\n",
       "                        <td id=\"T_9d014ba7_c935_11eb_bf0c_10bf4887320crow32_col0\" class=\"data row32 col0\" >Transformation Method</td>\n",
       "                        <td id=\"T_9d014ba7_c935_11eb_bf0c_10bf4887320crow32_col1\" class=\"data row32 col1\" >None</td>\n",
       "            </tr>\n",
       "            <tr>\n",
       "                        <th id=\"T_9d014ba7_c935_11eb_bf0c_10bf4887320clevel0_row33\" class=\"row_heading level0 row33\" >33</th>\n",
       "                        <td id=\"T_9d014ba7_c935_11eb_bf0c_10bf4887320crow33_col0\" class=\"data row33 col0\" >PCA</td>\n",
       "                        <td id=\"T_9d014ba7_c935_11eb_bf0c_10bf4887320crow33_col1\" class=\"data row33 col1\" >False</td>\n",
       "            </tr>\n",
       "            <tr>\n",
       "                        <th id=\"T_9d014ba7_c935_11eb_bf0c_10bf4887320clevel0_row34\" class=\"row_heading level0 row34\" >34</th>\n",
       "                        <td id=\"T_9d014ba7_c935_11eb_bf0c_10bf4887320crow34_col0\" class=\"data row34 col0\" >PCA Method</td>\n",
       "                        <td id=\"T_9d014ba7_c935_11eb_bf0c_10bf4887320crow34_col1\" class=\"data row34 col1\" >None</td>\n",
       "            </tr>\n",
       "            <tr>\n",
       "                        <th id=\"T_9d014ba7_c935_11eb_bf0c_10bf4887320clevel0_row35\" class=\"row_heading level0 row35\" >35</th>\n",
       "                        <td id=\"T_9d014ba7_c935_11eb_bf0c_10bf4887320crow35_col0\" class=\"data row35 col0\" >PCA Components</td>\n",
       "                        <td id=\"T_9d014ba7_c935_11eb_bf0c_10bf4887320crow35_col1\" class=\"data row35 col1\" >None</td>\n",
       "            </tr>\n",
       "            <tr>\n",
       "                        <th id=\"T_9d014ba7_c935_11eb_bf0c_10bf4887320clevel0_row36\" class=\"row_heading level0 row36\" >36</th>\n",
       "                        <td id=\"T_9d014ba7_c935_11eb_bf0c_10bf4887320crow36_col0\" class=\"data row36 col0\" >Ignore Low Variance</td>\n",
       "                        <td id=\"T_9d014ba7_c935_11eb_bf0c_10bf4887320crow36_col1\" class=\"data row36 col1\" >False</td>\n",
       "            </tr>\n",
       "            <tr>\n",
       "                        <th id=\"T_9d014ba7_c935_11eb_bf0c_10bf4887320clevel0_row37\" class=\"row_heading level0 row37\" >37</th>\n",
       "                        <td id=\"T_9d014ba7_c935_11eb_bf0c_10bf4887320crow37_col0\" class=\"data row37 col0\" >Combine Rare Levels</td>\n",
       "                        <td id=\"T_9d014ba7_c935_11eb_bf0c_10bf4887320crow37_col1\" class=\"data row37 col1\" >False</td>\n",
       "            </tr>\n",
       "            <tr>\n",
       "                        <th id=\"T_9d014ba7_c935_11eb_bf0c_10bf4887320clevel0_row38\" class=\"row_heading level0 row38\" >38</th>\n",
       "                        <td id=\"T_9d014ba7_c935_11eb_bf0c_10bf4887320crow38_col0\" class=\"data row38 col0\" >Rare Level Threshold</td>\n",
       "                        <td id=\"T_9d014ba7_c935_11eb_bf0c_10bf4887320crow38_col1\" class=\"data row38 col1\" >None</td>\n",
       "            </tr>\n",
       "            <tr>\n",
       "                        <th id=\"T_9d014ba7_c935_11eb_bf0c_10bf4887320clevel0_row39\" class=\"row_heading level0 row39\" >39</th>\n",
       "                        <td id=\"T_9d014ba7_c935_11eb_bf0c_10bf4887320crow39_col0\" class=\"data row39 col0\" >Numeric Binning</td>\n",
       "                        <td id=\"T_9d014ba7_c935_11eb_bf0c_10bf4887320crow39_col1\" class=\"data row39 col1\" >False</td>\n",
       "            </tr>\n",
       "            <tr>\n",
       "                        <th id=\"T_9d014ba7_c935_11eb_bf0c_10bf4887320clevel0_row40\" class=\"row_heading level0 row40\" >40</th>\n",
       "                        <td id=\"T_9d014ba7_c935_11eb_bf0c_10bf4887320crow40_col0\" class=\"data row40 col0\" >Remove Outliers</td>\n",
       "                        <td id=\"T_9d014ba7_c935_11eb_bf0c_10bf4887320crow40_col1\" class=\"data row40 col1\" >False</td>\n",
       "            </tr>\n",
       "            <tr>\n",
       "                        <th id=\"T_9d014ba7_c935_11eb_bf0c_10bf4887320clevel0_row41\" class=\"row_heading level0 row41\" >41</th>\n",
       "                        <td id=\"T_9d014ba7_c935_11eb_bf0c_10bf4887320crow41_col0\" class=\"data row41 col0\" >Outliers Threshold</td>\n",
       "                        <td id=\"T_9d014ba7_c935_11eb_bf0c_10bf4887320crow41_col1\" class=\"data row41 col1\" >None</td>\n",
       "            </tr>\n",
       "            <tr>\n",
       "                        <th id=\"T_9d014ba7_c935_11eb_bf0c_10bf4887320clevel0_row42\" class=\"row_heading level0 row42\" >42</th>\n",
       "                        <td id=\"T_9d014ba7_c935_11eb_bf0c_10bf4887320crow42_col0\" class=\"data row42 col0\" >Remove Multicollinearity</td>\n",
       "                        <td id=\"T_9d014ba7_c935_11eb_bf0c_10bf4887320crow42_col1\" class=\"data row42 col1\" >False</td>\n",
       "            </tr>\n",
       "            <tr>\n",
       "                        <th id=\"T_9d014ba7_c935_11eb_bf0c_10bf4887320clevel0_row43\" class=\"row_heading level0 row43\" >43</th>\n",
       "                        <td id=\"T_9d014ba7_c935_11eb_bf0c_10bf4887320crow43_col0\" class=\"data row43 col0\" >Multicollinearity Threshold</td>\n",
       "                        <td id=\"T_9d014ba7_c935_11eb_bf0c_10bf4887320crow43_col1\" class=\"data row43 col1\" >None</td>\n",
       "            </tr>\n",
       "            <tr>\n",
       "                        <th id=\"T_9d014ba7_c935_11eb_bf0c_10bf4887320clevel0_row44\" class=\"row_heading level0 row44\" >44</th>\n",
       "                        <td id=\"T_9d014ba7_c935_11eb_bf0c_10bf4887320crow44_col0\" class=\"data row44 col0\" >Clustering</td>\n",
       "                        <td id=\"T_9d014ba7_c935_11eb_bf0c_10bf4887320crow44_col1\" class=\"data row44 col1\" >False</td>\n",
       "            </tr>\n",
       "            <tr>\n",
       "                        <th id=\"T_9d014ba7_c935_11eb_bf0c_10bf4887320clevel0_row45\" class=\"row_heading level0 row45\" >45</th>\n",
       "                        <td id=\"T_9d014ba7_c935_11eb_bf0c_10bf4887320crow45_col0\" class=\"data row45 col0\" >Clustering Iteration</td>\n",
       "                        <td id=\"T_9d014ba7_c935_11eb_bf0c_10bf4887320crow45_col1\" class=\"data row45 col1\" >None</td>\n",
       "            </tr>\n",
       "            <tr>\n",
       "                        <th id=\"T_9d014ba7_c935_11eb_bf0c_10bf4887320clevel0_row46\" class=\"row_heading level0 row46\" >46</th>\n",
       "                        <td id=\"T_9d014ba7_c935_11eb_bf0c_10bf4887320crow46_col0\" class=\"data row46 col0\" >Polynomial Features</td>\n",
       "                        <td id=\"T_9d014ba7_c935_11eb_bf0c_10bf4887320crow46_col1\" class=\"data row46 col1\" >False</td>\n",
       "            </tr>\n",
       "            <tr>\n",
       "                        <th id=\"T_9d014ba7_c935_11eb_bf0c_10bf4887320clevel0_row47\" class=\"row_heading level0 row47\" >47</th>\n",
       "                        <td id=\"T_9d014ba7_c935_11eb_bf0c_10bf4887320crow47_col0\" class=\"data row47 col0\" >Polynomial Degree</td>\n",
       "                        <td id=\"T_9d014ba7_c935_11eb_bf0c_10bf4887320crow47_col1\" class=\"data row47 col1\" >None</td>\n",
       "            </tr>\n",
       "            <tr>\n",
       "                        <th id=\"T_9d014ba7_c935_11eb_bf0c_10bf4887320clevel0_row48\" class=\"row_heading level0 row48\" >48</th>\n",
       "                        <td id=\"T_9d014ba7_c935_11eb_bf0c_10bf4887320crow48_col0\" class=\"data row48 col0\" >Trignometry Features</td>\n",
       "                        <td id=\"T_9d014ba7_c935_11eb_bf0c_10bf4887320crow48_col1\" class=\"data row48 col1\" >False</td>\n",
       "            </tr>\n",
       "            <tr>\n",
       "                        <th id=\"T_9d014ba7_c935_11eb_bf0c_10bf4887320clevel0_row49\" class=\"row_heading level0 row49\" >49</th>\n",
       "                        <td id=\"T_9d014ba7_c935_11eb_bf0c_10bf4887320crow49_col0\" class=\"data row49 col0\" >Polynomial Threshold</td>\n",
       "                        <td id=\"T_9d014ba7_c935_11eb_bf0c_10bf4887320crow49_col1\" class=\"data row49 col1\" >None</td>\n",
       "            </tr>\n",
       "            <tr>\n",
       "                        <th id=\"T_9d014ba7_c935_11eb_bf0c_10bf4887320clevel0_row50\" class=\"row_heading level0 row50\" >50</th>\n",
       "                        <td id=\"T_9d014ba7_c935_11eb_bf0c_10bf4887320crow50_col0\" class=\"data row50 col0\" >Group Features</td>\n",
       "                        <td id=\"T_9d014ba7_c935_11eb_bf0c_10bf4887320crow50_col1\" class=\"data row50 col1\" >False</td>\n",
       "            </tr>\n",
       "            <tr>\n",
       "                        <th id=\"T_9d014ba7_c935_11eb_bf0c_10bf4887320clevel0_row51\" class=\"row_heading level0 row51\" >51</th>\n",
       "                        <td id=\"T_9d014ba7_c935_11eb_bf0c_10bf4887320crow51_col0\" class=\"data row51 col0\" >Feature Selection</td>\n",
       "                        <td id=\"T_9d014ba7_c935_11eb_bf0c_10bf4887320crow51_col1\" class=\"data row51 col1\" >False</td>\n",
       "            </tr>\n",
       "            <tr>\n",
       "                        <th id=\"T_9d014ba7_c935_11eb_bf0c_10bf4887320clevel0_row52\" class=\"row_heading level0 row52\" >52</th>\n",
       "                        <td id=\"T_9d014ba7_c935_11eb_bf0c_10bf4887320crow52_col0\" class=\"data row52 col0\" >Features Selection Threshold</td>\n",
       "                        <td id=\"T_9d014ba7_c935_11eb_bf0c_10bf4887320crow52_col1\" class=\"data row52 col1\" >None</td>\n",
       "            </tr>\n",
       "            <tr>\n",
       "                        <th id=\"T_9d014ba7_c935_11eb_bf0c_10bf4887320clevel0_row53\" class=\"row_heading level0 row53\" >53</th>\n",
       "                        <td id=\"T_9d014ba7_c935_11eb_bf0c_10bf4887320crow53_col0\" class=\"data row53 col0\" >Feature Interaction</td>\n",
       "                        <td id=\"T_9d014ba7_c935_11eb_bf0c_10bf4887320crow53_col1\" class=\"data row53 col1\" >False</td>\n",
       "            </tr>\n",
       "            <tr>\n",
       "                        <th id=\"T_9d014ba7_c935_11eb_bf0c_10bf4887320clevel0_row54\" class=\"row_heading level0 row54\" >54</th>\n",
       "                        <td id=\"T_9d014ba7_c935_11eb_bf0c_10bf4887320crow54_col0\" class=\"data row54 col0\" >Feature Ratio</td>\n",
       "                        <td id=\"T_9d014ba7_c935_11eb_bf0c_10bf4887320crow54_col1\" class=\"data row54 col1\" >False</td>\n",
       "            </tr>\n",
       "            <tr>\n",
       "                        <th id=\"T_9d014ba7_c935_11eb_bf0c_10bf4887320clevel0_row55\" class=\"row_heading level0 row55\" >55</th>\n",
       "                        <td id=\"T_9d014ba7_c935_11eb_bf0c_10bf4887320crow55_col0\" class=\"data row55 col0\" >Interaction Threshold</td>\n",
       "                        <td id=\"T_9d014ba7_c935_11eb_bf0c_10bf4887320crow55_col1\" class=\"data row55 col1\" >None</td>\n",
       "            </tr>\n",
       "            <tr>\n",
       "                        <th id=\"T_9d014ba7_c935_11eb_bf0c_10bf4887320clevel0_row56\" class=\"row_heading level0 row56\" >56</th>\n",
       "                        <td id=\"T_9d014ba7_c935_11eb_bf0c_10bf4887320crow56_col0\" class=\"data row56 col0\" >Fix Imbalance</td>\n",
       "                        <td id=\"T_9d014ba7_c935_11eb_bf0c_10bf4887320crow56_col1\" class=\"data row56 col1\" >False</td>\n",
       "            </tr>\n",
       "            <tr>\n",
       "                        <th id=\"T_9d014ba7_c935_11eb_bf0c_10bf4887320clevel0_row57\" class=\"row_heading level0 row57\" >57</th>\n",
       "                        <td id=\"T_9d014ba7_c935_11eb_bf0c_10bf4887320crow57_col0\" class=\"data row57 col0\" >Fix Imbalance Method</td>\n",
       "                        <td id=\"T_9d014ba7_c935_11eb_bf0c_10bf4887320crow57_col1\" class=\"data row57 col1\" >SMOTE</td>\n",
       "            </tr>\n",
       "    </tbody></table>"
      ],
      "text/plain": [
       "<pandas.io.formats.style.Styler at 0x25d389afaf0>"
      ]
     },
     "metadata": {},
     "output_type": "display_data"
    }
   ],
   "source": [
    "exp_clf101 = setup(data = data, target = 'stroke', session_id=123)"
   ]
  },
  {
   "cell_type": "markdown",
   "metadata": {},
   "source": [
    "Comparing all models to evaluate performance is the recommended starting point for modeling once the setup is completed (unless you exactly know what kind of model you need, which is often not the case). This function trains all models in the model library and scores them using stratified cross validation for metric evaluation. The output prints a score grid that shows average Accuracy, AUC, Recall, Precision, F1, Kappa, and MCC accross the folds (10 by default) along with training times."
   ]
  },
  {
   "cell_type": "code",
   "execution_count": 38,
   "metadata": {},
   "outputs": [
    {
     "data": {
      "text/html": [
       "<style  type=\"text/css\" >\n",
       "    #T_de93d911_c935_11eb_9b55_10bf4887320c th {\n",
       "          text-align: left;\n",
       "    }#T_de93d911_c935_11eb_9b55_10bf4887320crow0_col0,#T_de93d911_c935_11eb_9b55_10bf4887320crow0_col3,#T_de93d911_c935_11eb_9b55_10bf4887320crow0_col4,#T_de93d911_c935_11eb_9b55_10bf4887320crow0_col5,#T_de93d911_c935_11eb_9b55_10bf4887320crow0_col6,#T_de93d911_c935_11eb_9b55_10bf4887320crow0_col7,#T_de93d911_c935_11eb_9b55_10bf4887320crow1_col0,#T_de93d911_c935_11eb_9b55_10bf4887320crow1_col2,#T_de93d911_c935_11eb_9b55_10bf4887320crow1_col3,#T_de93d911_c935_11eb_9b55_10bf4887320crow1_col4,#T_de93d911_c935_11eb_9b55_10bf4887320crow1_col5,#T_de93d911_c935_11eb_9b55_10bf4887320crow1_col6,#T_de93d911_c935_11eb_9b55_10bf4887320crow1_col7,#T_de93d911_c935_11eb_9b55_10bf4887320crow2_col0,#T_de93d911_c935_11eb_9b55_10bf4887320crow2_col2,#T_de93d911_c935_11eb_9b55_10bf4887320crow2_col3,#T_de93d911_c935_11eb_9b55_10bf4887320crow2_col4,#T_de93d911_c935_11eb_9b55_10bf4887320crow2_col5,#T_de93d911_c935_11eb_9b55_10bf4887320crow2_col6,#T_de93d911_c935_11eb_9b55_10bf4887320crow2_col7,#T_de93d911_c935_11eb_9b55_10bf4887320crow3_col0,#T_de93d911_c935_11eb_9b55_10bf4887320crow3_col1,#T_de93d911_c935_11eb_9b55_10bf4887320crow3_col2,#T_de93d911_c935_11eb_9b55_10bf4887320crow3_col3,#T_de93d911_c935_11eb_9b55_10bf4887320crow3_col5,#T_de93d911_c935_11eb_9b55_10bf4887320crow3_col6,#T_de93d911_c935_11eb_9b55_10bf4887320crow3_col7,#T_de93d911_c935_11eb_9b55_10bf4887320crow4_col0,#T_de93d911_c935_11eb_9b55_10bf4887320crow4_col1,#T_de93d911_c935_11eb_9b55_10bf4887320crow4_col2,#T_de93d911_c935_11eb_9b55_10bf4887320crow4_col3,#T_de93d911_c935_11eb_9b55_10bf4887320crow4_col4,#T_de93d911_c935_11eb_9b55_10bf4887320crow4_col5,#T_de93d911_c935_11eb_9b55_10bf4887320crow4_col6,#T_de93d911_c935_11eb_9b55_10bf4887320crow4_col7,#T_de93d911_c935_11eb_9b55_10bf4887320crow5_col0,#T_de93d911_c935_11eb_9b55_10bf4887320crow5_col1,#T_de93d911_c935_11eb_9b55_10bf4887320crow5_col2,#T_de93d911_c935_11eb_9b55_10bf4887320crow5_col3,#T_de93d911_c935_11eb_9b55_10bf4887320crow5_col4,#T_de93d911_c935_11eb_9b55_10bf4887320crow5_col5,#T_de93d911_c935_11eb_9b55_10bf4887320crow5_col6,#T_de93d911_c935_11eb_9b55_10bf4887320crow5_col7,#T_de93d911_c935_11eb_9b55_10bf4887320crow6_col0,#T_de93d911_c935_11eb_9b55_10bf4887320crow6_col1,#T_de93d911_c935_11eb_9b55_10bf4887320crow6_col2,#T_de93d911_c935_11eb_9b55_10bf4887320crow6_col3,#T_de93d911_c935_11eb_9b55_10bf4887320crow6_col4,#T_de93d911_c935_11eb_9b55_10bf4887320crow6_col5,#T_de93d911_c935_11eb_9b55_10bf4887320crow6_col6,#T_de93d911_c935_11eb_9b55_10bf4887320crow6_col7,#T_de93d911_c935_11eb_9b55_10bf4887320crow7_col0,#T_de93d911_c935_11eb_9b55_10bf4887320crow7_col1,#T_de93d911_c935_11eb_9b55_10bf4887320crow7_col2,#T_de93d911_c935_11eb_9b55_10bf4887320crow7_col3,#T_de93d911_c935_11eb_9b55_10bf4887320crow7_col4,#T_de93d911_c935_11eb_9b55_10bf4887320crow7_col5,#T_de93d911_c935_11eb_9b55_10bf4887320crow7_col6,#T_de93d911_c935_11eb_9b55_10bf4887320crow7_col7,#T_de93d911_c935_11eb_9b55_10bf4887320crow8_col0,#T_de93d911_c935_11eb_9b55_10bf4887320crow8_col1,#T_de93d911_c935_11eb_9b55_10bf4887320crow8_col2,#T_de93d911_c935_11eb_9b55_10bf4887320crow8_col3,#T_de93d911_c935_11eb_9b55_10bf4887320crow8_col4,#T_de93d911_c935_11eb_9b55_10bf4887320crow8_col5,#T_de93d911_c935_11eb_9b55_10bf4887320crow8_col6,#T_de93d911_c935_11eb_9b55_10bf4887320crow8_col7,#T_de93d911_c935_11eb_9b55_10bf4887320crow9_col0,#T_de93d911_c935_11eb_9b55_10bf4887320crow9_col1,#T_de93d911_c935_11eb_9b55_10bf4887320crow9_col2,#T_de93d911_c935_11eb_9b55_10bf4887320crow9_col3,#T_de93d911_c935_11eb_9b55_10bf4887320crow9_col4,#T_de93d911_c935_11eb_9b55_10bf4887320crow9_col5,#T_de93d911_c935_11eb_9b55_10bf4887320crow9_col6,#T_de93d911_c935_11eb_9b55_10bf4887320crow9_col7,#T_de93d911_c935_11eb_9b55_10bf4887320crow10_col0,#T_de93d911_c935_11eb_9b55_10bf4887320crow10_col1,#T_de93d911_c935_11eb_9b55_10bf4887320crow10_col2,#T_de93d911_c935_11eb_9b55_10bf4887320crow10_col3,#T_de93d911_c935_11eb_9b55_10bf4887320crow10_col4,#T_de93d911_c935_11eb_9b55_10bf4887320crow10_col5,#T_de93d911_c935_11eb_9b55_10bf4887320crow10_col7,#T_de93d911_c935_11eb_9b55_10bf4887320crow11_col0,#T_de93d911_c935_11eb_9b55_10bf4887320crow11_col1,#T_de93d911_c935_11eb_9b55_10bf4887320crow11_col2,#T_de93d911_c935_11eb_9b55_10bf4887320crow11_col3,#T_de93d911_c935_11eb_9b55_10bf4887320crow11_col4,#T_de93d911_c935_11eb_9b55_10bf4887320crow11_col5,#T_de93d911_c935_11eb_9b55_10bf4887320crow11_col6,#T_de93d911_c935_11eb_9b55_10bf4887320crow11_col7,#T_de93d911_c935_11eb_9b55_10bf4887320crow12_col0,#T_de93d911_c935_11eb_9b55_10bf4887320crow12_col1,#T_de93d911_c935_11eb_9b55_10bf4887320crow12_col2,#T_de93d911_c935_11eb_9b55_10bf4887320crow12_col3,#T_de93d911_c935_11eb_9b55_10bf4887320crow12_col4,#T_de93d911_c935_11eb_9b55_10bf4887320crow12_col5,#T_de93d911_c935_11eb_9b55_10bf4887320crow12_col6,#T_de93d911_c935_11eb_9b55_10bf4887320crow12_col7,#T_de93d911_c935_11eb_9b55_10bf4887320crow13_col0,#T_de93d911_c935_11eb_9b55_10bf4887320crow13_col1,#T_de93d911_c935_11eb_9b55_10bf4887320crow13_col2,#T_de93d911_c935_11eb_9b55_10bf4887320crow13_col3,#T_de93d911_c935_11eb_9b55_10bf4887320crow13_col4,#T_de93d911_c935_11eb_9b55_10bf4887320crow13_col6,#T_de93d911_c935_11eb_9b55_10bf4887320crow14_col0,#T_de93d911_c935_11eb_9b55_10bf4887320crow14_col1,#T_de93d911_c935_11eb_9b55_10bf4887320crow14_col2,#T_de93d911_c935_11eb_9b55_10bf4887320crow14_col4,#T_de93d911_c935_11eb_9b55_10bf4887320crow14_col5,#T_de93d911_c935_11eb_9b55_10bf4887320crow14_col6,#T_de93d911_c935_11eb_9b55_10bf4887320crow14_col7{\n",
       "            text-align:  left;\n",
       "            text-align:  left;\n",
       "        }#T_de93d911_c935_11eb_9b55_10bf4887320crow0_col1,#T_de93d911_c935_11eb_9b55_10bf4887320crow0_col2,#T_de93d911_c935_11eb_9b55_10bf4887320crow1_col1,#T_de93d911_c935_11eb_9b55_10bf4887320crow2_col1,#T_de93d911_c935_11eb_9b55_10bf4887320crow3_col4,#T_de93d911_c935_11eb_9b55_10bf4887320crow10_col6,#T_de93d911_c935_11eb_9b55_10bf4887320crow13_col5,#T_de93d911_c935_11eb_9b55_10bf4887320crow13_col7,#T_de93d911_c935_11eb_9b55_10bf4887320crow14_col3{\n",
       "            text-align:  left;\n",
       "            text-align:  left;\n",
       "            background-color:  yellow;\n",
       "        }#T_de93d911_c935_11eb_9b55_10bf4887320crow0_col8,#T_de93d911_c935_11eb_9b55_10bf4887320crow2_col8,#T_de93d911_c935_11eb_9b55_10bf4887320crow3_col8,#T_de93d911_c935_11eb_9b55_10bf4887320crow4_col8,#T_de93d911_c935_11eb_9b55_10bf4887320crow5_col8,#T_de93d911_c935_11eb_9b55_10bf4887320crow6_col8,#T_de93d911_c935_11eb_9b55_10bf4887320crow7_col8,#T_de93d911_c935_11eb_9b55_10bf4887320crow8_col8,#T_de93d911_c935_11eb_9b55_10bf4887320crow9_col8,#T_de93d911_c935_11eb_9b55_10bf4887320crow10_col8,#T_de93d911_c935_11eb_9b55_10bf4887320crow11_col8,#T_de93d911_c935_11eb_9b55_10bf4887320crow12_col8,#T_de93d911_c935_11eb_9b55_10bf4887320crow14_col8{\n",
       "            text-align:  left;\n",
       "            text-align:  left;\n",
       "            background-color:  lightgrey;\n",
       "        }#T_de93d911_c935_11eb_9b55_10bf4887320crow1_col8,#T_de93d911_c935_11eb_9b55_10bf4887320crow13_col8{\n",
       "            text-align:  left;\n",
       "            text-align:  left;\n",
       "            background-color:  yellow;\n",
       "            background-color:  lightgrey;\n",
       "        }</style><table id=\"T_de93d911_c935_11eb_9b55_10bf4887320c\" ><thead>    <tr>        <th class=\"blank level0\" ></th>        <th class=\"col_heading level0 col0\" >Model</th>        <th class=\"col_heading level0 col1\" >Accuracy</th>        <th class=\"col_heading level0 col2\" >AUC</th>        <th class=\"col_heading level0 col3\" >Recall</th>        <th class=\"col_heading level0 col4\" >Prec.</th>        <th class=\"col_heading level0 col5\" >F1</th>        <th class=\"col_heading level0 col6\" >Kappa</th>        <th class=\"col_heading level0 col7\" >MCC</th>        <th class=\"col_heading level0 col8\" >TT (Sec)</th>    </tr></thead><tbody>\n",
       "                <tr>\n",
       "                        <th id=\"T_de93d911_c935_11eb_9b55_10bf4887320clevel0_row0\" class=\"row_heading level0 row0\" >lr</th>\n",
       "                        <td id=\"T_de93d911_c935_11eb_9b55_10bf4887320crow0_col0\" class=\"data row0 col0\" >Logistic Regression</td>\n",
       "                        <td id=\"T_de93d911_c935_11eb_9b55_10bf4887320crow0_col1\" class=\"data row0 col1\" >0.9814</td>\n",
       "                        <td id=\"T_de93d911_c935_11eb_9b55_10bf4887320crow0_col2\" class=\"data row0 col2\" >0.8330</td>\n",
       "                        <td id=\"T_de93d911_c935_11eb_9b55_10bf4887320crow0_col3\" class=\"data row0 col3\" >0.0000</td>\n",
       "                        <td id=\"T_de93d911_c935_11eb_9b55_10bf4887320crow0_col4\" class=\"data row0 col4\" >0.0000</td>\n",
       "                        <td id=\"T_de93d911_c935_11eb_9b55_10bf4887320crow0_col5\" class=\"data row0 col5\" >0.0000</td>\n",
       "                        <td id=\"T_de93d911_c935_11eb_9b55_10bf4887320crow0_col6\" class=\"data row0 col6\" >0.0000</td>\n",
       "                        <td id=\"T_de93d911_c935_11eb_9b55_10bf4887320crow0_col7\" class=\"data row0 col7\" >0.0000</td>\n",
       "                        <td id=\"T_de93d911_c935_11eb_9b55_10bf4887320crow0_col8\" class=\"data row0 col8\" >0.7540</td>\n",
       "            </tr>\n",
       "            <tr>\n",
       "                        <th id=\"T_de93d911_c935_11eb_9b55_10bf4887320clevel0_row1\" class=\"row_heading level0 row1\" >ridge</th>\n",
       "                        <td id=\"T_de93d911_c935_11eb_9b55_10bf4887320crow1_col0\" class=\"data row1 col0\" >Ridge Classifier</td>\n",
       "                        <td id=\"T_de93d911_c935_11eb_9b55_10bf4887320crow1_col1\" class=\"data row1 col1\" >0.9814</td>\n",
       "                        <td id=\"T_de93d911_c935_11eb_9b55_10bf4887320crow1_col2\" class=\"data row1 col2\" >0.0000</td>\n",
       "                        <td id=\"T_de93d911_c935_11eb_9b55_10bf4887320crow1_col3\" class=\"data row1 col3\" >0.0000</td>\n",
       "                        <td id=\"T_de93d911_c935_11eb_9b55_10bf4887320crow1_col4\" class=\"data row1 col4\" >0.0000</td>\n",
       "                        <td id=\"T_de93d911_c935_11eb_9b55_10bf4887320crow1_col5\" class=\"data row1 col5\" >0.0000</td>\n",
       "                        <td id=\"T_de93d911_c935_11eb_9b55_10bf4887320crow1_col6\" class=\"data row1 col6\" >0.0000</td>\n",
       "                        <td id=\"T_de93d911_c935_11eb_9b55_10bf4887320crow1_col7\" class=\"data row1 col7\" >0.0000</td>\n",
       "                        <td id=\"T_de93d911_c935_11eb_9b55_10bf4887320crow1_col8\" class=\"data row1 col8\" >0.0220</td>\n",
       "            </tr>\n",
       "            <tr>\n",
       "                        <th id=\"T_de93d911_c935_11eb_9b55_10bf4887320clevel0_row2\" class=\"row_heading level0 row2\" >ada</th>\n",
       "                        <td id=\"T_de93d911_c935_11eb_9b55_10bf4887320crow2_col0\" class=\"data row2 col0\" >Ada Boost Classifier</td>\n",
       "                        <td id=\"T_de93d911_c935_11eb_9b55_10bf4887320crow2_col1\" class=\"data row2 col1\" >0.9814</td>\n",
       "                        <td id=\"T_de93d911_c935_11eb_9b55_10bf4887320crow2_col2\" class=\"data row2 col2\" >0.8200</td>\n",
       "                        <td id=\"T_de93d911_c935_11eb_9b55_10bf4887320crow2_col3\" class=\"data row2 col3\" >0.0000</td>\n",
       "                        <td id=\"T_de93d911_c935_11eb_9b55_10bf4887320crow2_col4\" class=\"data row2 col4\" >0.0000</td>\n",
       "                        <td id=\"T_de93d911_c935_11eb_9b55_10bf4887320crow2_col5\" class=\"data row2 col5\" >0.0000</td>\n",
       "                        <td id=\"T_de93d911_c935_11eb_9b55_10bf4887320crow2_col6\" class=\"data row2 col6\" >0.0000</td>\n",
       "                        <td id=\"T_de93d911_c935_11eb_9b55_10bf4887320crow2_col7\" class=\"data row2 col7\" >0.0000</td>\n",
       "                        <td id=\"T_de93d911_c935_11eb_9b55_10bf4887320crow2_col8\" class=\"data row2 col8\" >0.1910</td>\n",
       "            </tr>\n",
       "            <tr>\n",
       "                        <th id=\"T_de93d911_c935_11eb_9b55_10bf4887320clevel0_row3\" class=\"row_heading level0 row3\" >rf</th>\n",
       "                        <td id=\"T_de93d911_c935_11eb_9b55_10bf4887320crow3_col0\" class=\"data row3 col0\" >Random Forest Classifier</td>\n",
       "                        <td id=\"T_de93d911_c935_11eb_9b55_10bf4887320crow3_col1\" class=\"data row3 col1\" >0.9813</td>\n",
       "                        <td id=\"T_de93d911_c935_11eb_9b55_10bf4887320crow3_col2\" class=\"data row3 col2\" >0.7341</td>\n",
       "                        <td id=\"T_de93d911_c935_11eb_9b55_10bf4887320crow3_col3\" class=\"data row3 col3\" >0.0028</td>\n",
       "                        <td id=\"T_de93d911_c935_11eb_9b55_10bf4887320crow3_col4\" class=\"data row3 col4\" >0.1000</td>\n",
       "                        <td id=\"T_de93d911_c935_11eb_9b55_10bf4887320crow3_col5\" class=\"data row3 col5\" >0.0054</td>\n",
       "                        <td id=\"T_de93d911_c935_11eb_9b55_10bf4887320crow3_col6\" class=\"data row3 col6\" >0.0049</td>\n",
       "                        <td id=\"T_de93d911_c935_11eb_9b55_10bf4887320crow3_col7\" class=\"data row3 col7\" >0.0155</td>\n",
       "                        <td id=\"T_de93d911_c935_11eb_9b55_10bf4887320crow3_col8\" class=\"data row3 col8\" >0.3610</td>\n",
       "            </tr>\n",
       "            <tr>\n",
       "                        <th id=\"T_de93d911_c935_11eb_9b55_10bf4887320clevel0_row4\" class=\"row_heading level0 row4\" >knn</th>\n",
       "                        <td id=\"T_de93d911_c935_11eb_9b55_10bf4887320crow4_col0\" class=\"data row4 col0\" >K Neighbors Classifier</td>\n",
       "                        <td id=\"T_de93d911_c935_11eb_9b55_10bf4887320crow4_col1\" class=\"data row4 col1\" >0.9811</td>\n",
       "                        <td id=\"T_de93d911_c935_11eb_9b55_10bf4887320crow4_col2\" class=\"data row4 col2\" >0.5591</td>\n",
       "                        <td id=\"T_de93d911_c935_11eb_9b55_10bf4887320crow4_col3\" class=\"data row4 col3\" >0.0000</td>\n",
       "                        <td id=\"T_de93d911_c935_11eb_9b55_10bf4887320crow4_col4\" class=\"data row4 col4\" >0.0000</td>\n",
       "                        <td id=\"T_de93d911_c935_11eb_9b55_10bf4887320crow4_col5\" class=\"data row4 col5\" >0.0000</td>\n",
       "                        <td id=\"T_de93d911_c935_11eb_9b55_10bf4887320crow4_col6\" class=\"data row4 col6\" >-0.0006</td>\n",
       "                        <td id=\"T_de93d911_c935_11eb_9b55_10bf4887320crow4_col7\" class=\"data row4 col7\" >-0.0017</td>\n",
       "                        <td id=\"T_de93d911_c935_11eb_9b55_10bf4887320crow4_col8\" class=\"data row4 col8\" >0.0940</td>\n",
       "            </tr>\n",
       "            <tr>\n",
       "                        <th id=\"T_de93d911_c935_11eb_9b55_10bf4887320clevel0_row5\" class=\"row_heading level0 row5\" >lightgbm</th>\n",
       "                        <td id=\"T_de93d911_c935_11eb_9b55_10bf4887320crow5_col0\" class=\"data row5 col0\" >Light Gradient Boosting Machine</td>\n",
       "                        <td id=\"T_de93d911_c935_11eb_9b55_10bf4887320crow5_col1\" class=\"data row5 col1\" >0.9811</td>\n",
       "                        <td id=\"T_de93d911_c935_11eb_9b55_10bf4887320crow5_col2\" class=\"data row5 col2\" >0.7923</td>\n",
       "                        <td id=\"T_de93d911_c935_11eb_9b55_10bf4887320crow5_col3\" class=\"data row5 col3\" >0.0000</td>\n",
       "                        <td id=\"T_de93d911_c935_11eb_9b55_10bf4887320crow5_col4\" class=\"data row5 col4\" >0.0000</td>\n",
       "                        <td id=\"T_de93d911_c935_11eb_9b55_10bf4887320crow5_col5\" class=\"data row5 col5\" >0.0000</td>\n",
       "                        <td id=\"T_de93d911_c935_11eb_9b55_10bf4887320crow5_col6\" class=\"data row5 col6\" >-0.0006</td>\n",
       "                        <td id=\"T_de93d911_c935_11eb_9b55_10bf4887320crow5_col7\" class=\"data row5 col7\" >-0.0015</td>\n",
       "                        <td id=\"T_de93d911_c935_11eb_9b55_10bf4887320crow5_col8\" class=\"data row5 col8\" >0.0880</td>\n",
       "            </tr>\n",
       "            <tr>\n",
       "                        <th id=\"T_de93d911_c935_11eb_9b55_10bf4887320clevel0_row6\" class=\"row_heading level0 row6\" >catboost</th>\n",
       "                        <td id=\"T_de93d911_c935_11eb_9b55_10bf4887320crow6_col0\" class=\"data row6 col0\" >CatBoost Classifier</td>\n",
       "                        <td id=\"T_de93d911_c935_11eb_9b55_10bf4887320crow6_col1\" class=\"data row6 col1\" >0.9810</td>\n",
       "                        <td id=\"T_de93d911_c935_11eb_9b55_10bf4887320crow6_col2\" class=\"data row6 col2\" >0.7811</td>\n",
       "                        <td id=\"T_de93d911_c935_11eb_9b55_10bf4887320crow6_col3\" class=\"data row6 col3\" >0.0000</td>\n",
       "                        <td id=\"T_de93d911_c935_11eb_9b55_10bf4887320crow6_col4\" class=\"data row6 col4\" >0.0000</td>\n",
       "                        <td id=\"T_de93d911_c935_11eb_9b55_10bf4887320crow6_col5\" class=\"data row6 col5\" >0.0000</td>\n",
       "                        <td id=\"T_de93d911_c935_11eb_9b55_10bf4887320crow6_col6\" class=\"data row6 col6\" >-0.0009</td>\n",
       "                        <td id=\"T_de93d911_c935_11eb_9b55_10bf4887320crow6_col7\" class=\"data row6 col7\" >-0.0024</td>\n",
       "                        <td id=\"T_de93d911_c935_11eb_9b55_10bf4887320crow6_col8\" class=\"data row6 col8\" >6.8700</td>\n",
       "            </tr>\n",
       "            <tr>\n",
       "                        <th id=\"T_de93d911_c935_11eb_9b55_10bf4887320clevel0_row7\" class=\"row_heading level0 row7\" >xgboost</th>\n",
       "                        <td id=\"T_de93d911_c935_11eb_9b55_10bf4887320crow7_col0\" class=\"data row7 col0\" >Extreme Gradient Boosting</td>\n",
       "                        <td id=\"T_de93d911_c935_11eb_9b55_10bf4887320crow7_col1\" class=\"data row7 col1\" >0.9808</td>\n",
       "                        <td id=\"T_de93d911_c935_11eb_9b55_10bf4887320crow7_col2\" class=\"data row7 col2\" >0.7696</td>\n",
       "                        <td id=\"T_de93d911_c935_11eb_9b55_10bf4887320crow7_col3\" class=\"data row7 col3\" >0.0000</td>\n",
       "                        <td id=\"T_de93d911_c935_11eb_9b55_10bf4887320crow7_col4\" class=\"data row7 col4\" >0.0000</td>\n",
       "                        <td id=\"T_de93d911_c935_11eb_9b55_10bf4887320crow7_col5\" class=\"data row7 col5\" >0.0000</td>\n",
       "                        <td id=\"T_de93d911_c935_11eb_9b55_10bf4887320crow7_col6\" class=\"data row7 col6\" >-0.0013</td>\n",
       "                        <td id=\"T_de93d911_c935_11eb_9b55_10bf4887320crow7_col7\" class=\"data row7 col7\" >-0.0029</td>\n",
       "                        <td id=\"T_de93d911_c935_11eb_9b55_10bf4887320crow7_col8\" class=\"data row7 col8\" >0.6740</td>\n",
       "            </tr>\n",
       "            <tr>\n",
       "                        <th id=\"T_de93d911_c935_11eb_9b55_10bf4887320clevel0_row8\" class=\"row_heading level0 row8\" >gbc</th>\n",
       "                        <td id=\"T_de93d911_c935_11eb_9b55_10bf4887320crow8_col0\" class=\"data row8 col0\" >Gradient Boosting Classifier</td>\n",
       "                        <td id=\"T_de93d911_c935_11eb_9b55_10bf4887320crow8_col1\" class=\"data row8 col1\" >0.9806</td>\n",
       "                        <td id=\"T_de93d911_c935_11eb_9b55_10bf4887320crow8_col2\" class=\"data row8 col2\" >0.8240</td>\n",
       "                        <td id=\"T_de93d911_c935_11eb_9b55_10bf4887320crow8_col3\" class=\"data row8 col3\" >0.0028</td>\n",
       "                        <td id=\"T_de93d911_c935_11eb_9b55_10bf4887320crow8_col4\" class=\"data row8 col4\" >0.0200</td>\n",
       "                        <td id=\"T_de93d911_c935_11eb_9b55_10bf4887320crow8_col5\" class=\"data row8 col5\" >0.0049</td>\n",
       "                        <td id=\"T_de93d911_c935_11eb_9b55_10bf4887320crow8_col6\" class=\"data row8 col6\" >0.0032</td>\n",
       "                        <td id=\"T_de93d911_c935_11eb_9b55_10bf4887320crow8_col7\" class=\"data row8 col7\" >0.0039</td>\n",
       "                        <td id=\"T_de93d911_c935_11eb_9b55_10bf4887320crow8_col8\" class=\"data row8 col8\" >0.5390</td>\n",
       "            </tr>\n",
       "            <tr>\n",
       "                        <th id=\"T_de93d911_c935_11eb_9b55_10bf4887320clevel0_row9\" class=\"row_heading level0 row9\" >svm</th>\n",
       "                        <td id=\"T_de93d911_c935_11eb_9b55_10bf4887320crow9_col0\" class=\"data row9 col0\" >SVM - Linear Kernel</td>\n",
       "                        <td id=\"T_de93d911_c935_11eb_9b55_10bf4887320crow9_col1\" class=\"data row9 col1\" >0.9803</td>\n",
       "                        <td id=\"T_de93d911_c935_11eb_9b55_10bf4887320crow9_col2\" class=\"data row9 col2\" >0.0000</td>\n",
       "                        <td id=\"T_de93d911_c935_11eb_9b55_10bf4887320crow9_col3\" class=\"data row9 col3\" >0.0056</td>\n",
       "                        <td id=\"T_de93d911_c935_11eb_9b55_10bf4887320crow9_col4\" class=\"data row9 col4\" >0.0080</td>\n",
       "                        <td id=\"T_de93d911_c935_11eb_9b55_10bf4887320crow9_col5\" class=\"data row9 col5\" >0.0066</td>\n",
       "                        <td id=\"T_de93d911_c935_11eb_9b55_10bf4887320crow9_col6\" class=\"data row9 col6\" >0.0051</td>\n",
       "                        <td id=\"T_de93d911_c935_11eb_9b55_10bf4887320crow9_col7\" class=\"data row9 col7\" >0.0052</td>\n",
       "                        <td id=\"T_de93d911_c935_11eb_9b55_10bf4887320crow9_col8\" class=\"data row9 col8\" >0.0850</td>\n",
       "            </tr>\n",
       "            <tr>\n",
       "                        <th id=\"T_de93d911_c935_11eb_9b55_10bf4887320clevel0_row10\" class=\"row_heading level0 row10\" >lda</th>\n",
       "                        <td id=\"T_de93d911_c935_11eb_9b55_10bf4887320crow10_col0\" class=\"data row10 col0\" >Linear Discriminant Analysis</td>\n",
       "                        <td id=\"T_de93d911_c935_11eb_9b55_10bf4887320crow10_col1\" class=\"data row10 col1\" >0.9795</td>\n",
       "                        <td id=\"T_de93d911_c935_11eb_9b55_10bf4887320crow10_col2\" class=\"data row10 col2\" >0.8277</td>\n",
       "                        <td id=\"T_de93d911_c935_11eb_9b55_10bf4887320crow10_col3\" class=\"data row10 col3\" >0.0167</td>\n",
       "                        <td id=\"T_de93d911_c935_11eb_9b55_10bf4887320crow10_col4\" class=\"data row10 col4\" >0.0969</td>\n",
       "                        <td id=\"T_de93d911_c935_11eb_9b55_10bf4887320crow10_col5\" class=\"data row10 col5\" >0.0283</td>\n",
       "                        <td id=\"T_de93d911_c935_11eb_9b55_10bf4887320crow10_col6\" class=\"data row10 col6\" >0.0241</td>\n",
       "                        <td id=\"T_de93d911_c935_11eb_9b55_10bf4887320crow10_col7\" class=\"data row10 col7\" >0.0338</td>\n",
       "                        <td id=\"T_de93d911_c935_11eb_9b55_10bf4887320crow10_col8\" class=\"data row10 col8\" >0.0380</td>\n",
       "            </tr>\n",
       "            <tr>\n",
       "                        <th id=\"T_de93d911_c935_11eb_9b55_10bf4887320clevel0_row11\" class=\"row_heading level0 row11\" >et</th>\n",
       "                        <td id=\"T_de93d911_c935_11eb_9b55_10bf4887320crow11_col0\" class=\"data row11 col0\" >Extra Trees Classifier</td>\n",
       "                        <td id=\"T_de93d911_c935_11eb_9b55_10bf4887320crow11_col1\" class=\"data row11 col1\" >0.9794</td>\n",
       "                        <td id=\"T_de93d911_c935_11eb_9b55_10bf4887320crow11_col2\" class=\"data row11 col2\" >0.6983</td>\n",
       "                        <td id=\"T_de93d911_c935_11eb_9b55_10bf4887320crow11_col3\" class=\"data row11 col3\" >0.0084</td>\n",
       "                        <td id=\"T_de93d911_c935_11eb_9b55_10bf4887320crow11_col4\" class=\"data row11 col4\" >0.0587</td>\n",
       "                        <td id=\"T_de93d911_c935_11eb_9b55_10bf4887320crow11_col5\" class=\"data row11 col5\" >0.0143</td>\n",
       "                        <td id=\"T_de93d911_c935_11eb_9b55_10bf4887320crow11_col6\" class=\"data row11 col6\" >0.0103</td>\n",
       "                        <td id=\"T_de93d911_c935_11eb_9b55_10bf4887320crow11_col7\" class=\"data row11 col7\" >0.0153</td>\n",
       "                        <td id=\"T_de93d911_c935_11eb_9b55_10bf4887320crow11_col8\" class=\"data row11 col8\" >0.3060</td>\n",
       "            </tr>\n",
       "            <tr>\n",
       "                        <th id=\"T_de93d911_c935_11eb_9b55_10bf4887320clevel0_row12\" class=\"row_heading level0 row12\" >dt</th>\n",
       "                        <td id=\"T_de93d911_c935_11eb_9b55_10bf4887320crow12_col0\" class=\"data row12 col0\" >Decision Tree Classifier</td>\n",
       "                        <td id=\"T_de93d911_c935_11eb_9b55_10bf4887320crow12_col1\" class=\"data row12 col1\" >0.9602</td>\n",
       "                        <td id=\"T_de93d911_c935_11eb_9b55_10bf4887320crow12_col2\" class=\"data row12 col2\" >0.5125</td>\n",
       "                        <td id=\"T_de93d911_c935_11eb_9b55_10bf4887320crow12_col3\" class=\"data row12 col3\" >0.0475</td>\n",
       "                        <td id=\"T_de93d911_c935_11eb_9b55_10bf4887320crow12_col4\" class=\"data row12 col4\" >0.0382</td>\n",
       "                        <td id=\"T_de93d911_c935_11eb_9b55_10bf4887320crow12_col5\" class=\"data row12 col5\" >0.0421</td>\n",
       "                        <td id=\"T_de93d911_c935_11eb_9b55_10bf4887320crow12_col6\" class=\"data row12 col6\" >0.0222</td>\n",
       "                        <td id=\"T_de93d911_c935_11eb_9b55_10bf4887320crow12_col7\" class=\"data row12 col7\" >0.0224</td>\n",
       "                        <td id=\"T_de93d911_c935_11eb_9b55_10bf4887320crow12_col8\" class=\"data row12 col8\" >0.0370</td>\n",
       "            </tr>\n",
       "            <tr>\n",
       "                        <th id=\"T_de93d911_c935_11eb_9b55_10bf4887320clevel0_row13\" class=\"row_heading level0 row13\" >nb</th>\n",
       "                        <td id=\"T_de93d911_c935_11eb_9b55_10bf4887320crow13_col0\" class=\"data row13 col0\" >Naive Bayes</td>\n",
       "                        <td id=\"T_de93d911_c935_11eb_9b55_10bf4887320crow13_col1\" class=\"data row13 col1\" >0.2439</td>\n",
       "                        <td id=\"T_de93d911_c935_11eb_9b55_10bf4887320crow13_col2\" class=\"data row13 col2\" >0.8027</td>\n",
       "                        <td id=\"T_de93d911_c935_11eb_9b55_10bf4887320crow13_col3\" class=\"data row13 col3\" >0.9916</td>\n",
       "                        <td id=\"T_de93d911_c935_11eb_9b55_10bf4887320crow13_col4\" class=\"data row13 col4\" >0.0238</td>\n",
       "                        <td id=\"T_de93d911_c935_11eb_9b55_10bf4887320crow13_col5\" class=\"data row13 col5\" >0.0465</td>\n",
       "                        <td id=\"T_de93d911_c935_11eb_9b55_10bf4887320crow13_col6\" class=\"data row13 col6\" >0.0106</td>\n",
       "                        <td id=\"T_de93d911_c935_11eb_9b55_10bf4887320crow13_col7\" class=\"data row13 col7\" >0.0715</td>\n",
       "                        <td id=\"T_de93d911_c935_11eb_9b55_10bf4887320crow13_col8\" class=\"data row13 col8\" >0.0220</td>\n",
       "            </tr>\n",
       "            <tr>\n",
       "                        <th id=\"T_de93d911_c935_11eb_9b55_10bf4887320clevel0_row14\" class=\"row_heading level0 row14\" >qda</th>\n",
       "                        <td id=\"T_de93d911_c935_11eb_9b55_10bf4887320crow14_col0\" class=\"data row14 col0\" >Quadratic Discriminant Analysis</td>\n",
       "                        <td id=\"T_de93d911_c935_11eb_9b55_10bf4887320crow14_col1\" class=\"data row14 col1\" >0.0186</td>\n",
       "                        <td id=\"T_de93d911_c935_11eb_9b55_10bf4887320crow14_col2\" class=\"data row14 col2\" >0.0000</td>\n",
       "                        <td id=\"T_de93d911_c935_11eb_9b55_10bf4887320crow14_col3\" class=\"data row14 col3\" >1.0000</td>\n",
       "                        <td id=\"T_de93d911_c935_11eb_9b55_10bf4887320crow14_col4\" class=\"data row14 col4\" >0.0186</td>\n",
       "                        <td id=\"T_de93d911_c935_11eb_9b55_10bf4887320crow14_col5\" class=\"data row14 col5\" >0.0365</td>\n",
       "                        <td id=\"T_de93d911_c935_11eb_9b55_10bf4887320crow14_col6\" class=\"data row14 col6\" >0.0000</td>\n",
       "                        <td id=\"T_de93d911_c935_11eb_9b55_10bf4887320crow14_col7\" class=\"data row14 col7\" >0.0000</td>\n",
       "                        <td id=\"T_de93d911_c935_11eb_9b55_10bf4887320crow14_col8\" class=\"data row14 col8\" >0.0320</td>\n",
       "            </tr>\n",
       "    </tbody></table>"
      ],
      "text/plain": [
       "<pandas.io.formats.style.Styler at 0x25d389afaf0>"
      ]
     },
     "metadata": {},
     "output_type": "display_data"
    }
   ],
   "source": [
    "best_model = compare_models()"
   ]
  },
  {
   "cell_type": "markdown",
   "metadata": {},
   "source": [
    "We can see from the above that logistic regression appeared to be the strongest model for classification of stroke. \n",
    "\n",
    "Two simple words of code (not even a line) have trained and evaluated over 15 models using cross validation. The score grid printed above highlights the highest performing metric for comparison purposes only. The grid by default is sorted using 'Accuracy' (highest to lowest) which can be changed by passing the sort parameter. For example compare_models(sort = 'Recall') will sort the grid by Recall instead of Accuracy. If you want to change the fold parameter from the default value of 10 to a different value then you can use the fold parameter. For example compare_models(fold = 5) will compare all models on 5 fold cross validation. Reducing the number of folds will improve the training time. By default, compare_models return the best performing model based on default sort order but can be used to return a list of top N models by using n_select parameter."
   ]
  },
  {
   "cell_type": "code",
   "execution_count": 39,
   "metadata": {},
   "outputs": [
    {
     "name": "stdout",
     "output_type": "stream",
     "text": [
      "LogisticRegression(C=1.0, class_weight=None, dual=False, fit_intercept=True,\n",
      "                   intercept_scaling=1, l1_ratio=None, max_iter=1000,\n",
      "                   multi_class='auto', n_jobs=None, penalty='l2',\n",
      "                   random_state=123, solver='lbfgs', tol=0.0001, verbose=0,\n",
      "                   warm_start=False)\n"
     ]
    }
   ],
   "source": [
    "print(best_model)"
   ]
  },
  {
   "cell_type": "markdown",
   "metadata": {},
   "source": [
    "Let's view the models available in the PyCaret library."
   ]
  },
  {
   "cell_type": "code",
   "execution_count": 40,
   "metadata": {},
   "outputs": [
    {
     "data": {
      "text/html": [
       "<div>\n",
       "<style scoped>\n",
       "    .dataframe tbody tr th:only-of-type {\n",
       "        vertical-align: middle;\n",
       "    }\n",
       "\n",
       "    .dataframe tbody tr th {\n",
       "        vertical-align: top;\n",
       "    }\n",
       "\n",
       "    .dataframe thead th {\n",
       "        text-align: right;\n",
       "    }\n",
       "</style>\n",
       "<table border=\"1\" class=\"dataframe\">\n",
       "  <thead>\n",
       "    <tr style=\"text-align: right;\">\n",
       "      <th></th>\n",
       "      <th>Name</th>\n",
       "      <th>Reference</th>\n",
       "      <th>Turbo</th>\n",
       "    </tr>\n",
       "    <tr>\n",
       "      <th>ID</th>\n",
       "      <th></th>\n",
       "      <th></th>\n",
       "      <th></th>\n",
       "    </tr>\n",
       "  </thead>\n",
       "  <tbody>\n",
       "    <tr>\n",
       "      <th>lr</th>\n",
       "      <td>Logistic Regression</td>\n",
       "      <td>sklearn.linear_model._logistic.LogisticRegression</td>\n",
       "      <td>True</td>\n",
       "    </tr>\n",
       "    <tr>\n",
       "      <th>knn</th>\n",
       "      <td>K Neighbors Classifier</td>\n",
       "      <td>sklearn.neighbors._classification.KNeighborsCl...</td>\n",
       "      <td>True</td>\n",
       "    </tr>\n",
       "    <tr>\n",
       "      <th>nb</th>\n",
       "      <td>Naive Bayes</td>\n",
       "      <td>sklearn.naive_bayes.GaussianNB</td>\n",
       "      <td>True</td>\n",
       "    </tr>\n",
       "    <tr>\n",
       "      <th>dt</th>\n",
       "      <td>Decision Tree Classifier</td>\n",
       "      <td>sklearn.tree._classes.DecisionTreeClassifier</td>\n",
       "      <td>True</td>\n",
       "    </tr>\n",
       "    <tr>\n",
       "      <th>svm</th>\n",
       "      <td>SVM - Linear Kernel</td>\n",
       "      <td>sklearn.linear_model._stochastic_gradient.SGDC...</td>\n",
       "      <td>True</td>\n",
       "    </tr>\n",
       "    <tr>\n",
       "      <th>rbfsvm</th>\n",
       "      <td>SVM - Radial Kernel</td>\n",
       "      <td>sklearn.svm._classes.SVC</td>\n",
       "      <td>False</td>\n",
       "    </tr>\n",
       "    <tr>\n",
       "      <th>gpc</th>\n",
       "      <td>Gaussian Process Classifier</td>\n",
       "      <td>sklearn.gaussian_process._gpc.GaussianProcessC...</td>\n",
       "      <td>False</td>\n",
       "    </tr>\n",
       "    <tr>\n",
       "      <th>mlp</th>\n",
       "      <td>MLP Classifier</td>\n",
       "      <td>pycaret.internal.tunable.TunableMLPClassifier</td>\n",
       "      <td>False</td>\n",
       "    </tr>\n",
       "    <tr>\n",
       "      <th>ridge</th>\n",
       "      <td>Ridge Classifier</td>\n",
       "      <td>sklearn.linear_model._ridge.RidgeClassifier</td>\n",
       "      <td>True</td>\n",
       "    </tr>\n",
       "    <tr>\n",
       "      <th>rf</th>\n",
       "      <td>Random Forest Classifier</td>\n",
       "      <td>sklearn.ensemble._forest.RandomForestClassifier</td>\n",
       "      <td>True</td>\n",
       "    </tr>\n",
       "    <tr>\n",
       "      <th>qda</th>\n",
       "      <td>Quadratic Discriminant Analysis</td>\n",
       "      <td>sklearn.discriminant_analysis.QuadraticDiscrim...</td>\n",
       "      <td>True</td>\n",
       "    </tr>\n",
       "    <tr>\n",
       "      <th>ada</th>\n",
       "      <td>Ada Boost Classifier</td>\n",
       "      <td>sklearn.ensemble._weight_boosting.AdaBoostClas...</td>\n",
       "      <td>True</td>\n",
       "    </tr>\n",
       "    <tr>\n",
       "      <th>gbc</th>\n",
       "      <td>Gradient Boosting Classifier</td>\n",
       "      <td>sklearn.ensemble._gb.GradientBoostingClassifier</td>\n",
       "      <td>True</td>\n",
       "    </tr>\n",
       "    <tr>\n",
       "      <th>lda</th>\n",
       "      <td>Linear Discriminant Analysis</td>\n",
       "      <td>sklearn.discriminant_analysis.LinearDiscrimina...</td>\n",
       "      <td>True</td>\n",
       "    </tr>\n",
       "    <tr>\n",
       "      <th>et</th>\n",
       "      <td>Extra Trees Classifier</td>\n",
       "      <td>sklearn.ensemble._forest.ExtraTreesClassifier</td>\n",
       "      <td>True</td>\n",
       "    </tr>\n",
       "    <tr>\n",
       "      <th>xgboost</th>\n",
       "      <td>Extreme Gradient Boosting</td>\n",
       "      <td>xgboost.sklearn.XGBClassifier</td>\n",
       "      <td>True</td>\n",
       "    </tr>\n",
       "    <tr>\n",
       "      <th>lightgbm</th>\n",
       "      <td>Light Gradient Boosting Machine</td>\n",
       "      <td>lightgbm.sklearn.LGBMClassifier</td>\n",
       "      <td>True</td>\n",
       "    </tr>\n",
       "    <tr>\n",
       "      <th>catboost</th>\n",
       "      <td>CatBoost Classifier</td>\n",
       "      <td>catboost.core.CatBoostClassifier</td>\n",
       "      <td>True</td>\n",
       "    </tr>\n",
       "  </tbody>\n",
       "</table>\n",
       "</div>"
      ],
      "text/plain": [
       "                                     Name  \\\n",
       "ID                                          \n",
       "lr                    Logistic Regression   \n",
       "knn                K Neighbors Classifier   \n",
       "nb                            Naive Bayes   \n",
       "dt               Decision Tree Classifier   \n",
       "svm                   SVM - Linear Kernel   \n",
       "rbfsvm                SVM - Radial Kernel   \n",
       "gpc           Gaussian Process Classifier   \n",
       "mlp                        MLP Classifier   \n",
       "ridge                    Ridge Classifier   \n",
       "rf               Random Forest Classifier   \n",
       "qda       Quadratic Discriminant Analysis   \n",
       "ada                  Ada Boost Classifier   \n",
       "gbc          Gradient Boosting Classifier   \n",
       "lda          Linear Discriminant Analysis   \n",
       "et                 Extra Trees Classifier   \n",
       "xgboost         Extreme Gradient Boosting   \n",
       "lightgbm  Light Gradient Boosting Machine   \n",
       "catboost              CatBoost Classifier   \n",
       "\n",
       "                                                  Reference  Turbo  \n",
       "ID                                                                  \n",
       "lr        sklearn.linear_model._logistic.LogisticRegression   True  \n",
       "knn       sklearn.neighbors._classification.KNeighborsCl...   True  \n",
       "nb                           sklearn.naive_bayes.GaussianNB   True  \n",
       "dt             sklearn.tree._classes.DecisionTreeClassifier   True  \n",
       "svm       sklearn.linear_model._stochastic_gradient.SGDC...   True  \n",
       "rbfsvm                             sklearn.svm._classes.SVC  False  \n",
       "gpc       sklearn.gaussian_process._gpc.GaussianProcessC...  False  \n",
       "mlp           pycaret.internal.tunable.TunableMLPClassifier  False  \n",
       "ridge           sklearn.linear_model._ridge.RidgeClassifier   True  \n",
       "rf          sklearn.ensemble._forest.RandomForestClassifier   True  \n",
       "qda       sklearn.discriminant_analysis.QuadraticDiscrim...   True  \n",
       "ada       sklearn.ensemble._weight_boosting.AdaBoostClas...   True  \n",
       "gbc         sklearn.ensemble._gb.GradientBoostingClassifier   True  \n",
       "lda       sklearn.discriminant_analysis.LinearDiscrimina...   True  \n",
       "et            sklearn.ensemble._forest.ExtraTreesClassifier   True  \n",
       "xgboost                       xgboost.sklearn.XGBClassifier   True  \n",
       "lightgbm                    lightgbm.sklearn.LGBMClassifier   True  \n",
       "catboost                   catboost.core.CatBoostClassifier   True  "
      ]
     },
     "execution_count": 40,
     "metadata": {},
     "output_type": "execute_result"
    }
   ],
   "source": [
    "models()"
   ]
  },
  {
   "cell_type": "markdown",
   "metadata": {},
   "source": [
    "Create a logistic regression classifier."
   ]
  },
  {
   "cell_type": "code",
   "execution_count": 41,
   "metadata": {},
   "outputs": [
    {
     "data": {
      "text/html": [
       "<style  type=\"text/css\" >\n",
       "#T_f22efb47_c935_11eb_b6d8_10bf4887320crow10_col0,#T_f22efb47_c935_11eb_b6d8_10bf4887320crow10_col1,#T_f22efb47_c935_11eb_b6d8_10bf4887320crow10_col2,#T_f22efb47_c935_11eb_b6d8_10bf4887320crow10_col3,#T_f22efb47_c935_11eb_b6d8_10bf4887320crow10_col4,#T_f22efb47_c935_11eb_b6d8_10bf4887320crow10_col5,#T_f22efb47_c935_11eb_b6d8_10bf4887320crow10_col6{\n",
       "            background:  yellow;\n",
       "        }</style><table id=\"T_f22efb47_c935_11eb_b6d8_10bf4887320c\" ><thead>    <tr>        <th class=\"blank level0\" ></th>        <th class=\"col_heading level0 col0\" >Accuracy</th>        <th class=\"col_heading level0 col1\" >AUC</th>        <th class=\"col_heading level0 col2\" >Recall</th>        <th class=\"col_heading level0 col3\" >Prec.</th>        <th class=\"col_heading level0 col4\" >F1</th>        <th class=\"col_heading level0 col5\" >Kappa</th>        <th class=\"col_heading level0 col6\" >MCC</th>    </tr></thead><tbody>\n",
       "                <tr>\n",
       "                        <th id=\"T_f22efb47_c935_11eb_b6d8_10bf4887320clevel0_row0\" class=\"row_heading level0 row0\" >0</th>\n",
       "                        <td id=\"T_f22efb47_c935_11eb_b6d8_10bf4887320crow0_col0\" class=\"data row0 col0\" >0.9814</td>\n",
       "                        <td id=\"T_f22efb47_c935_11eb_b6d8_10bf4887320crow0_col1\" class=\"data row0 col1\" >0.8370</td>\n",
       "                        <td id=\"T_f22efb47_c935_11eb_b6d8_10bf4887320crow0_col2\" class=\"data row0 col2\" >0.0000</td>\n",
       "                        <td id=\"T_f22efb47_c935_11eb_b6d8_10bf4887320crow0_col3\" class=\"data row0 col3\" >0.0000</td>\n",
       "                        <td id=\"T_f22efb47_c935_11eb_b6d8_10bf4887320crow0_col4\" class=\"data row0 col4\" >0.0000</td>\n",
       "                        <td id=\"T_f22efb47_c935_11eb_b6d8_10bf4887320crow0_col5\" class=\"data row0 col5\" >0.0000</td>\n",
       "                        <td id=\"T_f22efb47_c935_11eb_b6d8_10bf4887320crow0_col6\" class=\"data row0 col6\" >0.0000</td>\n",
       "            </tr>\n",
       "            <tr>\n",
       "                        <th id=\"T_f22efb47_c935_11eb_b6d8_10bf4887320clevel0_row1\" class=\"row_heading level0 row1\" >1</th>\n",
       "                        <td id=\"T_f22efb47_c935_11eb_b6d8_10bf4887320crow1_col0\" class=\"data row1 col0\" >0.9814</td>\n",
       "                        <td id=\"T_f22efb47_c935_11eb_b6d8_10bf4887320crow1_col1\" class=\"data row1 col1\" >0.8072</td>\n",
       "                        <td id=\"T_f22efb47_c935_11eb_b6d8_10bf4887320crow1_col2\" class=\"data row1 col2\" >0.0000</td>\n",
       "                        <td id=\"T_f22efb47_c935_11eb_b6d8_10bf4887320crow1_col3\" class=\"data row1 col3\" >0.0000</td>\n",
       "                        <td id=\"T_f22efb47_c935_11eb_b6d8_10bf4887320crow1_col4\" class=\"data row1 col4\" >0.0000</td>\n",
       "                        <td id=\"T_f22efb47_c935_11eb_b6d8_10bf4887320crow1_col5\" class=\"data row1 col5\" >0.0000</td>\n",
       "                        <td id=\"T_f22efb47_c935_11eb_b6d8_10bf4887320crow1_col6\" class=\"data row1 col6\" >0.0000</td>\n",
       "            </tr>\n",
       "            <tr>\n",
       "                        <th id=\"T_f22efb47_c935_11eb_b6d8_10bf4887320clevel0_row2\" class=\"row_heading level0 row2\" >2</th>\n",
       "                        <td id=\"T_f22efb47_c935_11eb_b6d8_10bf4887320crow2_col0\" class=\"data row2 col0\" >0.9819</td>\n",
       "                        <td id=\"T_f22efb47_c935_11eb_b6d8_10bf4887320crow2_col1\" class=\"data row2 col1\" >0.8411</td>\n",
       "                        <td id=\"T_f22efb47_c935_11eb_b6d8_10bf4887320crow2_col2\" class=\"data row2 col2\" >0.0000</td>\n",
       "                        <td id=\"T_f22efb47_c935_11eb_b6d8_10bf4887320crow2_col3\" class=\"data row2 col3\" >0.0000</td>\n",
       "                        <td id=\"T_f22efb47_c935_11eb_b6d8_10bf4887320crow2_col4\" class=\"data row2 col4\" >0.0000</td>\n",
       "                        <td id=\"T_f22efb47_c935_11eb_b6d8_10bf4887320crow2_col5\" class=\"data row2 col5\" >0.0000</td>\n",
       "                        <td id=\"T_f22efb47_c935_11eb_b6d8_10bf4887320crow2_col6\" class=\"data row2 col6\" >0.0000</td>\n",
       "            </tr>\n",
       "            <tr>\n",
       "                        <th id=\"T_f22efb47_c935_11eb_b6d8_10bf4887320clevel0_row3\" class=\"row_heading level0 row3\" >3</th>\n",
       "                        <td id=\"T_f22efb47_c935_11eb_b6d8_10bf4887320crow3_col0\" class=\"data row3 col0\" >0.9814</td>\n",
       "                        <td id=\"T_f22efb47_c935_11eb_b6d8_10bf4887320crow3_col1\" class=\"data row3 col1\" >0.8258</td>\n",
       "                        <td id=\"T_f22efb47_c935_11eb_b6d8_10bf4887320crow3_col2\" class=\"data row3 col2\" >0.0000</td>\n",
       "                        <td id=\"T_f22efb47_c935_11eb_b6d8_10bf4887320crow3_col3\" class=\"data row3 col3\" >0.0000</td>\n",
       "                        <td id=\"T_f22efb47_c935_11eb_b6d8_10bf4887320crow3_col4\" class=\"data row3 col4\" >0.0000</td>\n",
       "                        <td id=\"T_f22efb47_c935_11eb_b6d8_10bf4887320crow3_col5\" class=\"data row3 col5\" >0.0000</td>\n",
       "                        <td id=\"T_f22efb47_c935_11eb_b6d8_10bf4887320crow3_col6\" class=\"data row3 col6\" >0.0000</td>\n",
       "            </tr>\n",
       "            <tr>\n",
       "                        <th id=\"T_f22efb47_c935_11eb_b6d8_10bf4887320clevel0_row4\" class=\"row_heading level0 row4\" >4</th>\n",
       "                        <td id=\"T_f22efb47_c935_11eb_b6d8_10bf4887320crow4_col0\" class=\"data row4 col0\" >0.9814</td>\n",
       "                        <td id=\"T_f22efb47_c935_11eb_b6d8_10bf4887320crow4_col1\" class=\"data row4 col1\" >0.8063</td>\n",
       "                        <td id=\"T_f22efb47_c935_11eb_b6d8_10bf4887320crow4_col2\" class=\"data row4 col2\" >0.0000</td>\n",
       "                        <td id=\"T_f22efb47_c935_11eb_b6d8_10bf4887320crow4_col3\" class=\"data row4 col3\" >0.0000</td>\n",
       "                        <td id=\"T_f22efb47_c935_11eb_b6d8_10bf4887320crow4_col4\" class=\"data row4 col4\" >0.0000</td>\n",
       "                        <td id=\"T_f22efb47_c935_11eb_b6d8_10bf4887320crow4_col5\" class=\"data row4 col5\" >0.0000</td>\n",
       "                        <td id=\"T_f22efb47_c935_11eb_b6d8_10bf4887320crow4_col6\" class=\"data row4 col6\" >0.0000</td>\n",
       "            </tr>\n",
       "            <tr>\n",
       "                        <th id=\"T_f22efb47_c935_11eb_b6d8_10bf4887320clevel0_row5\" class=\"row_heading level0 row5\" >5</th>\n",
       "                        <td id=\"T_f22efb47_c935_11eb_b6d8_10bf4887320crow5_col0\" class=\"data row5 col0\" >0.9814</td>\n",
       "                        <td id=\"T_f22efb47_c935_11eb_b6d8_10bf4887320crow5_col1\" class=\"data row5 col1\" >0.8455</td>\n",
       "                        <td id=\"T_f22efb47_c935_11eb_b6d8_10bf4887320crow5_col2\" class=\"data row5 col2\" >0.0000</td>\n",
       "                        <td id=\"T_f22efb47_c935_11eb_b6d8_10bf4887320crow5_col3\" class=\"data row5 col3\" >0.0000</td>\n",
       "                        <td id=\"T_f22efb47_c935_11eb_b6d8_10bf4887320crow5_col4\" class=\"data row5 col4\" >0.0000</td>\n",
       "                        <td id=\"T_f22efb47_c935_11eb_b6d8_10bf4887320crow5_col5\" class=\"data row5 col5\" >0.0000</td>\n",
       "                        <td id=\"T_f22efb47_c935_11eb_b6d8_10bf4887320crow5_col6\" class=\"data row5 col6\" >0.0000</td>\n",
       "            </tr>\n",
       "            <tr>\n",
       "                        <th id=\"T_f22efb47_c935_11eb_b6d8_10bf4887320clevel0_row6\" class=\"row_heading level0 row6\" >6</th>\n",
       "                        <td id=\"T_f22efb47_c935_11eb_b6d8_10bf4887320crow6_col0\" class=\"data row6 col0\" >0.9814</td>\n",
       "                        <td id=\"T_f22efb47_c935_11eb_b6d8_10bf4887320crow6_col1\" class=\"data row6 col1\" >0.8722</td>\n",
       "                        <td id=\"T_f22efb47_c935_11eb_b6d8_10bf4887320crow6_col2\" class=\"data row6 col2\" >0.0000</td>\n",
       "                        <td id=\"T_f22efb47_c935_11eb_b6d8_10bf4887320crow6_col3\" class=\"data row6 col3\" >0.0000</td>\n",
       "                        <td id=\"T_f22efb47_c935_11eb_b6d8_10bf4887320crow6_col4\" class=\"data row6 col4\" >0.0000</td>\n",
       "                        <td id=\"T_f22efb47_c935_11eb_b6d8_10bf4887320crow6_col5\" class=\"data row6 col5\" >0.0000</td>\n",
       "                        <td id=\"T_f22efb47_c935_11eb_b6d8_10bf4887320crow6_col6\" class=\"data row6 col6\" >0.0000</td>\n",
       "            </tr>\n",
       "            <tr>\n",
       "                        <th id=\"T_f22efb47_c935_11eb_b6d8_10bf4887320clevel0_row7\" class=\"row_heading level0 row7\" >7</th>\n",
       "                        <td id=\"T_f22efb47_c935_11eb_b6d8_10bf4887320crow7_col0\" class=\"data row7 col0\" >0.9814</td>\n",
       "                        <td id=\"T_f22efb47_c935_11eb_b6d8_10bf4887320crow7_col1\" class=\"data row7 col1\" >0.8390</td>\n",
       "                        <td id=\"T_f22efb47_c935_11eb_b6d8_10bf4887320crow7_col2\" class=\"data row7 col2\" >0.0000</td>\n",
       "                        <td id=\"T_f22efb47_c935_11eb_b6d8_10bf4887320crow7_col3\" class=\"data row7 col3\" >0.0000</td>\n",
       "                        <td id=\"T_f22efb47_c935_11eb_b6d8_10bf4887320crow7_col4\" class=\"data row7 col4\" >0.0000</td>\n",
       "                        <td id=\"T_f22efb47_c935_11eb_b6d8_10bf4887320crow7_col5\" class=\"data row7 col5\" >0.0000</td>\n",
       "                        <td id=\"T_f22efb47_c935_11eb_b6d8_10bf4887320crow7_col6\" class=\"data row7 col6\" >0.0000</td>\n",
       "            </tr>\n",
       "            <tr>\n",
       "                        <th id=\"T_f22efb47_c935_11eb_b6d8_10bf4887320clevel0_row8\" class=\"row_heading level0 row8\" >8</th>\n",
       "                        <td id=\"T_f22efb47_c935_11eb_b6d8_10bf4887320crow8_col0\" class=\"data row8 col0\" >0.9814</td>\n",
       "                        <td id=\"T_f22efb47_c935_11eb_b6d8_10bf4887320crow8_col1\" class=\"data row8 col1\" >0.8539</td>\n",
       "                        <td id=\"T_f22efb47_c935_11eb_b6d8_10bf4887320crow8_col2\" class=\"data row8 col2\" >0.0000</td>\n",
       "                        <td id=\"T_f22efb47_c935_11eb_b6d8_10bf4887320crow8_col3\" class=\"data row8 col3\" >0.0000</td>\n",
       "                        <td id=\"T_f22efb47_c935_11eb_b6d8_10bf4887320crow8_col4\" class=\"data row8 col4\" >0.0000</td>\n",
       "                        <td id=\"T_f22efb47_c935_11eb_b6d8_10bf4887320crow8_col5\" class=\"data row8 col5\" >0.0000</td>\n",
       "                        <td id=\"T_f22efb47_c935_11eb_b6d8_10bf4887320crow8_col6\" class=\"data row8 col6\" >0.0000</td>\n",
       "            </tr>\n",
       "            <tr>\n",
       "                        <th id=\"T_f22efb47_c935_11eb_b6d8_10bf4887320clevel0_row9\" class=\"row_heading level0 row9\" >9</th>\n",
       "                        <td id=\"T_f22efb47_c935_11eb_b6d8_10bf4887320crow9_col0\" class=\"data row9 col0\" >0.9814</td>\n",
       "                        <td id=\"T_f22efb47_c935_11eb_b6d8_10bf4887320crow9_col1\" class=\"data row9 col1\" >0.8020</td>\n",
       "                        <td id=\"T_f22efb47_c935_11eb_b6d8_10bf4887320crow9_col2\" class=\"data row9 col2\" >0.0000</td>\n",
       "                        <td id=\"T_f22efb47_c935_11eb_b6d8_10bf4887320crow9_col3\" class=\"data row9 col3\" >0.0000</td>\n",
       "                        <td id=\"T_f22efb47_c935_11eb_b6d8_10bf4887320crow9_col4\" class=\"data row9 col4\" >0.0000</td>\n",
       "                        <td id=\"T_f22efb47_c935_11eb_b6d8_10bf4887320crow9_col5\" class=\"data row9 col5\" >0.0000</td>\n",
       "                        <td id=\"T_f22efb47_c935_11eb_b6d8_10bf4887320crow9_col6\" class=\"data row9 col6\" >0.0000</td>\n",
       "            </tr>\n",
       "            <tr>\n",
       "                        <th id=\"T_f22efb47_c935_11eb_b6d8_10bf4887320clevel0_row10\" class=\"row_heading level0 row10\" >Mean</th>\n",
       "                        <td id=\"T_f22efb47_c935_11eb_b6d8_10bf4887320crow10_col0\" class=\"data row10 col0\" >0.9814</td>\n",
       "                        <td id=\"T_f22efb47_c935_11eb_b6d8_10bf4887320crow10_col1\" class=\"data row10 col1\" >0.8330</td>\n",
       "                        <td id=\"T_f22efb47_c935_11eb_b6d8_10bf4887320crow10_col2\" class=\"data row10 col2\" >0.0000</td>\n",
       "                        <td id=\"T_f22efb47_c935_11eb_b6d8_10bf4887320crow10_col3\" class=\"data row10 col3\" >0.0000</td>\n",
       "                        <td id=\"T_f22efb47_c935_11eb_b6d8_10bf4887320crow10_col4\" class=\"data row10 col4\" >0.0000</td>\n",
       "                        <td id=\"T_f22efb47_c935_11eb_b6d8_10bf4887320crow10_col5\" class=\"data row10 col5\" >0.0000</td>\n",
       "                        <td id=\"T_f22efb47_c935_11eb_b6d8_10bf4887320crow10_col6\" class=\"data row10 col6\" >0.0000</td>\n",
       "            </tr>\n",
       "            <tr>\n",
       "                        <th id=\"T_f22efb47_c935_11eb_b6d8_10bf4887320clevel0_row11\" class=\"row_heading level0 row11\" >SD</th>\n",
       "                        <td id=\"T_f22efb47_c935_11eb_b6d8_10bf4887320crow11_col0\" class=\"data row11 col0\" >0.0002</td>\n",
       "                        <td id=\"T_f22efb47_c935_11eb_b6d8_10bf4887320crow11_col1\" class=\"data row11 col1\" >0.0215</td>\n",
       "                        <td id=\"T_f22efb47_c935_11eb_b6d8_10bf4887320crow11_col2\" class=\"data row11 col2\" >0.0000</td>\n",
       "                        <td id=\"T_f22efb47_c935_11eb_b6d8_10bf4887320crow11_col3\" class=\"data row11 col3\" >0.0000</td>\n",
       "                        <td id=\"T_f22efb47_c935_11eb_b6d8_10bf4887320crow11_col4\" class=\"data row11 col4\" >0.0000</td>\n",
       "                        <td id=\"T_f22efb47_c935_11eb_b6d8_10bf4887320crow11_col5\" class=\"data row11 col5\" >0.0000</td>\n",
       "                        <td id=\"T_f22efb47_c935_11eb_b6d8_10bf4887320crow11_col6\" class=\"data row11 col6\" >0.0000</td>\n",
       "            </tr>\n",
       "    </tbody></table>"
      ],
      "text/plain": [
       "<pandas.io.formats.style.Styler at 0x25d39111ac0>"
      ]
     },
     "metadata": {},
     "output_type": "display_data"
    }
   ],
   "source": [
    "lr = create_model('lr')"
   ]
  },
  {
   "cell_type": "markdown",
   "metadata": {},
   "source": [
    "Tune the model. By default, tune_model optimizes Accuracy but this can be changed using optimize parameter. For example: tune_model(dt, optimize = 'AUC') will search for the hyperparameters of a Decision Tree Classifier that results in the highest AUC instead of Accuracy. For the purposes of this example, we have used the default metric Accuracy only for the sake of simplicity. Generally, when the dataset is imbalanced (such as the stroke dataset we are working with) Accuracy is not a good metric for consideration."
   ]
  },
  {
   "cell_type": "code",
   "execution_count": 42,
   "metadata": {},
   "outputs": [
    {
     "data": {
      "text/html": [
       "<style  type=\"text/css\" >\n",
       "#T_089daf6d_c936_11eb_b0dd_10bf4887320crow10_col0,#T_089daf6d_c936_11eb_b0dd_10bf4887320crow10_col1,#T_089daf6d_c936_11eb_b0dd_10bf4887320crow10_col2,#T_089daf6d_c936_11eb_b0dd_10bf4887320crow10_col3,#T_089daf6d_c936_11eb_b0dd_10bf4887320crow10_col4,#T_089daf6d_c936_11eb_b0dd_10bf4887320crow10_col5,#T_089daf6d_c936_11eb_b0dd_10bf4887320crow10_col6{\n",
       "            background:  yellow;\n",
       "        }</style><table id=\"T_089daf6d_c936_11eb_b0dd_10bf4887320c\" ><thead>    <tr>        <th class=\"blank level0\" ></th>        <th class=\"col_heading level0 col0\" >Accuracy</th>        <th class=\"col_heading level0 col1\" >AUC</th>        <th class=\"col_heading level0 col2\" >Recall</th>        <th class=\"col_heading level0 col3\" >Prec.</th>        <th class=\"col_heading level0 col4\" >F1</th>        <th class=\"col_heading level0 col5\" >Kappa</th>        <th class=\"col_heading level0 col6\" >MCC</th>    </tr></thead><tbody>\n",
       "                <tr>\n",
       "                        <th id=\"T_089daf6d_c936_11eb_b0dd_10bf4887320clevel0_row0\" class=\"row_heading level0 row0\" >0</th>\n",
       "                        <td id=\"T_089daf6d_c936_11eb_b0dd_10bf4887320crow0_col0\" class=\"data row0 col0\" >0.7347</td>\n",
       "                        <td id=\"T_089daf6d_c936_11eb_b0dd_10bf4887320crow0_col1\" class=\"data row0 col1\" >0.8378</td>\n",
       "                        <td id=\"T_089daf6d_c936_11eb_b0dd_10bf4887320crow0_col2\" class=\"data row0 col2\" >0.7778</td>\n",
       "                        <td id=\"T_089daf6d_c936_11eb_b0dd_10bf4887320crow0_col3\" class=\"data row0 col3\" >0.0525</td>\n",
       "                        <td id=\"T_089daf6d_c936_11eb_b0dd_10bf4887320crow0_col4\" class=\"data row0 col4\" >0.0984</td>\n",
       "                        <td id=\"T_089daf6d_c936_11eb_b0dd_10bf4887320crow0_col5\" class=\"data row0 col5\" >0.0658</td>\n",
       "                        <td id=\"T_089daf6d_c936_11eb_b0dd_10bf4887320crow0_col6\" class=\"data row0 col6\" >0.1548</td>\n",
       "            </tr>\n",
       "            <tr>\n",
       "                        <th id=\"T_089daf6d_c936_11eb_b0dd_10bf4887320clevel0_row1\" class=\"row_heading level0 row1\" >1</th>\n",
       "                        <td id=\"T_089daf6d_c936_11eb_b0dd_10bf4887320crow1_col0\" class=\"data row1 col0\" >0.7337</td>\n",
       "                        <td id=\"T_089daf6d_c936_11eb_b0dd_10bf4887320crow1_col1\" class=\"data row1 col1\" >0.8060</td>\n",
       "                        <td id=\"T_089daf6d_c936_11eb_b0dd_10bf4887320crow1_col2\" class=\"data row1 col2\" >0.6389</td>\n",
       "                        <td id=\"T_089daf6d_c936_11eb_b0dd_10bf4887320crow1_col3\" class=\"data row1 col3\" >0.0438</td>\n",
       "                        <td id=\"T_089daf6d_c936_11eb_b0dd_10bf4887320crow1_col4\" class=\"data row1 col4\" >0.0820</td>\n",
       "                        <td id=\"T_089daf6d_c936_11eb_b0dd_10bf4887320crow1_col5\" class=\"data row1 col5\" >0.0489</td>\n",
       "                        <td id=\"T_089daf6d_c936_11eb_b0dd_10bf4887320crow1_col6\" class=\"data row1 col6\" >0.1138</td>\n",
       "            </tr>\n",
       "            <tr>\n",
       "                        <th id=\"T_089daf6d_c936_11eb_b0dd_10bf4887320clevel0_row2\" class=\"row_heading level0 row2\" >2</th>\n",
       "                        <td id=\"T_089daf6d_c936_11eb_b0dd_10bf4887320crow2_col0\" class=\"data row2 col0\" >0.7429</td>\n",
       "                        <td id=\"T_089daf6d_c936_11eb_b0dd_10bf4887320crow2_col1\" class=\"data row2 col1\" >0.8427</td>\n",
       "                        <td id=\"T_089daf6d_c936_11eb_b0dd_10bf4887320crow2_col2\" class=\"data row2 col2\" >0.8000</td>\n",
       "                        <td id=\"T_089daf6d_c936_11eb_b0dd_10bf4887320crow2_col3\" class=\"data row2 col3\" >0.0541</td>\n",
       "                        <td id=\"T_089daf6d_c936_11eb_b0dd_10bf4887320crow2_col4\" class=\"data row2 col4\" >0.1013</td>\n",
       "                        <td id=\"T_089daf6d_c936_11eb_b0dd_10bf4887320crow2_col5\" class=\"data row2 col5\" >0.0697</td>\n",
       "                        <td id=\"T_089daf6d_c936_11eb_b0dd_10bf4887320crow2_col6\" class=\"data row2 col6\" >0.1631</td>\n",
       "            </tr>\n",
       "            <tr>\n",
       "                        <th id=\"T_089daf6d_c936_11eb_b0dd_10bf4887320clevel0_row3\" class=\"row_heading level0 row3\" >3</th>\n",
       "                        <td id=\"T_089daf6d_c936_11eb_b0dd_10bf4887320crow3_col0\" class=\"data row3 col0\" >0.7268</td>\n",
       "                        <td id=\"T_089daf6d_c936_11eb_b0dd_10bf4887320crow3_col1\" class=\"data row3 col1\" >0.8249</td>\n",
       "                        <td id=\"T_089daf6d_c936_11eb_b0dd_10bf4887320crow3_col2\" class=\"data row3 col2\" >0.7500</td>\n",
       "                        <td id=\"T_089daf6d_c936_11eb_b0dd_10bf4887320crow3_col3\" class=\"data row3 col3\" >0.0495</td>\n",
       "                        <td id=\"T_089daf6d_c936_11eb_b0dd_10bf4887320crow3_col4\" class=\"data row3 col4\" >0.0928</td>\n",
       "                        <td id=\"T_089daf6d_c936_11eb_b0dd_10bf4887320crow3_col5\" class=\"data row3 col5\" >0.0599</td>\n",
       "                        <td id=\"T_089daf6d_c936_11eb_b0dd_10bf4887320crow3_col6\" class=\"data row3 col6\" >0.1431</td>\n",
       "            </tr>\n",
       "            <tr>\n",
       "                        <th id=\"T_089daf6d_c936_11eb_b0dd_10bf4887320clevel0_row4\" class=\"row_heading level0 row4\" >4</th>\n",
       "                        <td id=\"T_089daf6d_c936_11eb_b0dd_10bf4887320crow4_col0\" class=\"data row4 col0\" >0.7212</td>\n",
       "                        <td id=\"T_089daf6d_c936_11eb_b0dd_10bf4887320crow4_col1\" class=\"data row4 col1\" >0.8061</td>\n",
       "                        <td id=\"T_089daf6d_c936_11eb_b0dd_10bf4887320crow4_col2\" class=\"data row4 col2\" >0.7500</td>\n",
       "                        <td id=\"T_089daf6d_c936_11eb_b0dd_10bf4887320crow4_col3\" class=\"data row4 col3\" >0.0485</td>\n",
       "                        <td id=\"T_089daf6d_c936_11eb_b0dd_10bf4887320crow4_col4\" class=\"data row4 col4\" >0.0911</td>\n",
       "                        <td id=\"T_089daf6d_c936_11eb_b0dd_10bf4887320crow4_col5\" class=\"data row4 col5\" >0.0581</td>\n",
       "                        <td id=\"T_089daf6d_c936_11eb_b0dd_10bf4887320crow4_col6\" class=\"data row4 col6\" >0.1405</td>\n",
       "            </tr>\n",
       "            <tr>\n",
       "                        <th id=\"T_089daf6d_c936_11eb_b0dd_10bf4887320clevel0_row5\" class=\"row_heading level0 row5\" >5</th>\n",
       "                        <td id=\"T_089daf6d_c936_11eb_b0dd_10bf4887320crow5_col0\" class=\"data row5 col0\" >0.7248</td>\n",
       "                        <td id=\"T_089daf6d_c936_11eb_b0dd_10bf4887320crow5_col1\" class=\"data row5 col1\" >0.8455</td>\n",
       "                        <td id=\"T_089daf6d_c936_11eb_b0dd_10bf4887320crow5_col2\" class=\"data row5 col2\" >0.8056</td>\n",
       "                        <td id=\"T_089daf6d_c936_11eb_b0dd_10bf4887320crow5_col3\" class=\"data row5 col3\" >0.0523</td>\n",
       "                        <td id=\"T_089daf6d_c936_11eb_b0dd_10bf4887320crow5_col4\" class=\"data row5 col4\" >0.0983</td>\n",
       "                        <td id=\"T_089daf6d_c936_11eb_b0dd_10bf4887320crow5_col5\" class=\"data row5 col5\" >0.0656</td>\n",
       "                        <td id=\"T_089daf6d_c936_11eb_b0dd_10bf4887320crow5_col6\" class=\"data row5 col6\" >0.1581</td>\n",
       "            </tr>\n",
       "            <tr>\n",
       "                        <th id=\"T_089daf6d_c936_11eb_b0dd_10bf4887320clevel0_row6\" class=\"row_heading level0 row6\" >6</th>\n",
       "                        <td id=\"T_089daf6d_c936_11eb_b0dd_10bf4887320crow6_col0\" class=\"data row6 col0\" >0.7398</td>\n",
       "                        <td id=\"T_089daf6d_c936_11eb_b0dd_10bf4887320crow6_col1\" class=\"data row6 col1\" >0.8698</td>\n",
       "                        <td id=\"T_089daf6d_c936_11eb_b0dd_10bf4887320crow6_col2\" class=\"data row6 col2\" >0.8333</td>\n",
       "                        <td id=\"T_089daf6d_c936_11eb_b0dd_10bf4887320crow6_col3\" class=\"data row6 col3\" >0.0569</td>\n",
       "                        <td id=\"T_089daf6d_c936_11eb_b0dd_10bf4887320crow6_col4\" class=\"data row6 col4\" >0.1066</td>\n",
       "                        <td id=\"T_089daf6d_c936_11eb_b0dd_10bf4887320crow6_col5\" class=\"data row6 col5\" >0.0743</td>\n",
       "                        <td id=\"T_089daf6d_c936_11eb_b0dd_10bf4887320crow6_col6\" class=\"data row6 col6\" >0.1735</td>\n",
       "            </tr>\n",
       "            <tr>\n",
       "                        <th id=\"T_089daf6d_c936_11eb_b0dd_10bf4887320clevel0_row7\" class=\"row_heading level0 row7\" >7</th>\n",
       "                        <td id=\"T_089daf6d_c936_11eb_b0dd_10bf4887320crow7_col0\" class=\"data row7 col0\" >0.7465</td>\n",
       "                        <td id=\"T_089daf6d_c936_11eb_b0dd_10bf4887320crow7_col1\" class=\"data row7 col1\" >0.8421</td>\n",
       "                        <td id=\"T_089daf6d_c936_11eb_b0dd_10bf4887320crow7_col2\" class=\"data row7 col2\" >0.8056</td>\n",
       "                        <td id=\"T_089daf6d_c936_11eb_b0dd_10bf4887320crow7_col3\" class=\"data row7 col3\" >0.0566</td>\n",
       "                        <td id=\"T_089daf6d_c936_11eb_b0dd_10bf4887320crow7_col4\" class=\"data row7 col4\" >0.1058</td>\n",
       "                        <td id=\"T_089daf6d_c936_11eb_b0dd_10bf4887320crow7_col5\" class=\"data row7 col5\" >0.0736</td>\n",
       "                        <td id=\"T_089daf6d_c936_11eb_b0dd_10bf4887320crow7_col6\" class=\"data row7 col6\" >0.1688</td>\n",
       "            </tr>\n",
       "            <tr>\n",
       "                        <th id=\"T_089daf6d_c936_11eb_b0dd_10bf4887320clevel0_row8\" class=\"row_heading level0 row8\" >8</th>\n",
       "                        <td id=\"T_089daf6d_c936_11eb_b0dd_10bf4887320crow8_col0\" class=\"data row8 col0\" >0.7268</td>\n",
       "                        <td id=\"T_089daf6d_c936_11eb_b0dd_10bf4887320crow8_col1\" class=\"data row8 col1\" >0.8525</td>\n",
       "                        <td id=\"T_089daf6d_c936_11eb_b0dd_10bf4887320crow8_col2\" class=\"data row8 col2\" >0.8611</td>\n",
       "                        <td id=\"T_089daf6d_c936_11eb_b0dd_10bf4887320crow8_col3\" class=\"data row8 col3\" >0.0560</td>\n",
       "                        <td id=\"T_089daf6d_c936_11eb_b0dd_10bf4887320crow8_col4\" class=\"data row8 col4\" >0.1051</td>\n",
       "                        <td id=\"T_089daf6d_c936_11eb_b0dd_10bf4887320crow8_col5\" class=\"data row8 col5\" >0.0727</td>\n",
       "                        <td id=\"T_089daf6d_c936_11eb_b0dd_10bf4887320crow8_col6\" class=\"data row8 col6\" >0.1750</td>\n",
       "            </tr>\n",
       "            <tr>\n",
       "                        <th id=\"T_089daf6d_c936_11eb_b0dd_10bf4887320clevel0_row9\" class=\"row_heading level0 row9\" >9</th>\n",
       "                        <td id=\"T_089daf6d_c936_11eb_b0dd_10bf4887320crow9_col0\" class=\"data row9 col0\" >0.7181</td>\n",
       "                        <td id=\"T_089daf6d_c936_11eb_b0dd_10bf4887320crow9_col1\" class=\"data row9 col1\" >0.8062</td>\n",
       "                        <td id=\"T_089daf6d_c936_11eb_b0dd_10bf4887320crow9_col2\" class=\"data row9 col2\" >0.7778</td>\n",
       "                        <td id=\"T_089daf6d_c936_11eb_b0dd_10bf4887320crow9_col3\" class=\"data row9 col3\" >0.0496</td>\n",
       "                        <td id=\"T_089daf6d_c936_11eb_b0dd_10bf4887320crow9_col4\" class=\"data row9 col4\" >0.0932</td>\n",
       "                        <td id=\"T_089daf6d_c936_11eb_b0dd_10bf4887320crow9_col5\" class=\"data row9 col5\" >0.0603</td>\n",
       "                        <td id=\"T_089daf6d_c936_11eb_b0dd_10bf4887320crow9_col6\" class=\"data row9 col6\" >0.1470</td>\n",
       "            </tr>\n",
       "            <tr>\n",
       "                        <th id=\"T_089daf6d_c936_11eb_b0dd_10bf4887320clevel0_row10\" class=\"row_heading level0 row10\" >Mean</th>\n",
       "                        <td id=\"T_089daf6d_c936_11eb_b0dd_10bf4887320crow10_col0\" class=\"data row10 col0\" >0.7315</td>\n",
       "                        <td id=\"T_089daf6d_c936_11eb_b0dd_10bf4887320crow10_col1\" class=\"data row10 col1\" >0.8334</td>\n",
       "                        <td id=\"T_089daf6d_c936_11eb_b0dd_10bf4887320crow10_col2\" class=\"data row10 col2\" >0.7800</td>\n",
       "                        <td id=\"T_089daf6d_c936_11eb_b0dd_10bf4887320crow10_col3\" class=\"data row10 col3\" >0.0520</td>\n",
       "                        <td id=\"T_089daf6d_c936_11eb_b0dd_10bf4887320crow10_col4\" class=\"data row10 col4\" >0.0975</td>\n",
       "                        <td id=\"T_089daf6d_c936_11eb_b0dd_10bf4887320crow10_col5\" class=\"data row10 col5\" >0.0649</td>\n",
       "                        <td id=\"T_089daf6d_c936_11eb_b0dd_10bf4887320crow10_col6\" class=\"data row10 col6\" >0.1538</td>\n",
       "            </tr>\n",
       "            <tr>\n",
       "                        <th id=\"T_089daf6d_c936_11eb_b0dd_10bf4887320clevel0_row11\" class=\"row_heading level0 row11\" >SD</th>\n",
       "                        <td id=\"T_089daf6d_c936_11eb_b0dd_10bf4887320crow11_col0\" class=\"data row11 col0\" >0.0090</td>\n",
       "                        <td id=\"T_089daf6d_c936_11eb_b0dd_10bf4887320crow11_col1\" class=\"data row11 col1\" >0.0208</td>\n",
       "                        <td id=\"T_089daf6d_c936_11eb_b0dd_10bf4887320crow11_col2\" class=\"data row11 col2\" >0.0573</td>\n",
       "                        <td id=\"T_089daf6d_c936_11eb_b0dd_10bf4887320crow11_col3\" class=\"data row11 col3\" >0.0040</td>\n",
       "                        <td id=\"T_089daf6d_c936_11eb_b0dd_10bf4887320crow11_col4\" class=\"data row11 col4\" >0.0074</td>\n",
       "                        <td id=\"T_089daf6d_c936_11eb_b0dd_10bf4887320crow11_col5\" class=\"data row11 col5\" >0.0077</td>\n",
       "                        <td id=\"T_089daf6d_c936_11eb_b0dd_10bf4887320crow11_col6\" class=\"data row11 col6\" >0.0176</td>\n",
       "            </tr>\n",
       "    </tbody></table>"
      ],
      "text/plain": [
       "<pandas.io.formats.style.Styler at 0x25d384d0730>"
      ]
     },
     "metadata": {},
     "output_type": "display_data"
    }
   ],
   "source": [
    "tuned_lr = tune_model(lr, optimize = 'AUC')"
   ]
  },
  {
   "cell_type": "markdown",
   "metadata": {},
   "source": [
    "Let's look at the version tuned for better AUC results."
   ]
  },
  {
   "cell_type": "code",
   "execution_count": 43,
   "metadata": {},
   "outputs": [
    {
     "data": {
      "image/png": "[encoded data removed]",
      "text/plain": [
       "<Figure size 576x396 with 1 Axes>"
      ]
     },
     "metadata": {},
     "output_type": "display_data"
    }
   ],
   "source": [
    "plot_model(tuned_lr, plot = 'auc')"
   ]
  },
  {
   "cell_type": "code",
   "execution_count": 44,
   "metadata": {},
   "outputs": [
    {
     "data": {
      "image/png": "[encoded data removed]",
      "text/plain": [
       "<Figure size 800x500 with 1 Axes>"
      ]
     },
     "metadata": {},
     "output_type": "display_data"
    }
   ],
   "source": [
    "plot_model(tuned_lr, plot='feature')"
   ]
  },
  {
   "cell_type": "markdown",
   "metadata": {},
   "source": [
    "Judging by the feature importance, it would appear that work type is a significant feature in whether or not someone has had a stroke."
   ]
  },
  {
   "cell_type": "code",
   "execution_count": 45,
   "metadata": {},
   "outputs": [
    {
     "data": {
      "text/plain": [
       "<AxesSubplot:xlabel='stroke', ylabel='work_type'>"
      ]
     },
     "execution_count": 45,
     "metadata": {},
     "output_type": "execute_result"
    },
    {
     "data": {
      "image/png": "[encoded data removed]",
      "text/plain": [
       "<Figure size 720x360 with 1 Axes>"
      ]
     },
     "metadata": {},
     "output_type": "display_data"
    }
   ],
   "source": [
    "plt.figure(figsize=(10,5))\n",
    "sns.set_style(\"ticks\", {\"xtick.major.size\": 12, \"ytick.major.size\": 12})\n",
    "sns.barplot(x='stroke',y='work_type',data=data)"
   ]
  },
  {
   "cell_type": "markdown",
   "metadata": {},
   "source": [
    "As shown above, if we break this relationship down further we can see that being self-employed, working in the private sector, and working goverment jobs are all associated with heightened stroke risk."
   ]
  },
  {
   "cell_type": "code",
   "execution_count": 46,
   "metadata": {},
   "outputs": [
    {
     "data": {
      "image/png": "[encoded data removed]",
      "text/plain": [
       "<Figure size 576x396 with 1 Axes>"
      ]
     },
     "metadata": {},
     "output_type": "display_data"
    }
   ],
   "source": [
    "plot_model(tuned_lr, plot = 'confusion_matrix')"
   ]
  },
  {
   "cell_type": "markdown",
   "metadata": {},
   "source": [
    "Before finalizing the model, it is advisable to perform one final check by predicting the test/hold-out set and reviewing the evaluation metrics. Now, using our final trained model stored in the tuned_lr variable we will predict against the hold-out sample and evaluate the metrics to see if they are materially different than the CV results."
   ]
  },
  {
   "cell_type": "code",
   "execution_count": 47,
   "metadata": {},
   "outputs": [
    {
     "data": {
      "text/html": [
       "<style  type=\"text/css\" >\n",
       "</style><table id=\"T_09d421ee_c936_11eb_9ede_10bf4887320c\" ><thead>    <tr>        <th class=\"blank level0\" ></th>        <th class=\"col_heading level0 col0\" >Model</th>        <th class=\"col_heading level0 col1\" >Accuracy</th>        <th class=\"col_heading level0 col2\" >AUC</th>        <th class=\"col_heading level0 col3\" >Recall</th>        <th class=\"col_heading level0 col4\" >Prec.</th>        <th class=\"col_heading level0 col5\" >F1</th>        <th class=\"col_heading level0 col6\" >Kappa</th>        <th class=\"col_heading level0 col7\" >MCC</th>    </tr></thead><tbody>\n",
       "                <tr>\n",
       "                        <th id=\"T_09d421ee_c936_11eb_9ede_10bf4887320clevel0_row0\" class=\"row_heading level0 row0\" >0</th>\n",
       "                        <td id=\"T_09d421ee_c936_11eb_9ede_10bf4887320crow0_col0\" class=\"data row0 col0\" >Logistic Regression</td>\n",
       "                        <td id=\"T_09d421ee_c936_11eb_9ede_10bf4887320crow0_col1\" class=\"data row0 col1\" >0.7286</td>\n",
       "                        <td id=\"T_09d421ee_c936_11eb_9ede_10bf4887320crow0_col2\" class=\"data row0 col2\" >0.8305</td>\n",
       "                        <td id=\"T_09d421ee_c936_11eb_9ede_10bf4887320crow0_col3\" class=\"data row0 col3\" >0.7914</td>\n",
       "                        <td id=\"T_09d421ee_c936_11eb_9ede_10bf4887320crow0_col4\" class=\"data row0 col4\" >0.0550</td>\n",
       "                        <td id=\"T_09d421ee_c936_11eb_9ede_10bf4887320crow0_col5\" class=\"data row0 col5\" >0.1029</td>\n",
       "                        <td id=\"T_09d421ee_c936_11eb_9ede_10bf4887320crow0_col6\" class=\"data row0 col6\" >0.0687</td>\n",
       "                        <td id=\"T_09d421ee_c936_11eb_9ede_10bf4887320crow0_col7\" class=\"data row0 col7\" >0.1599</td>\n",
       "            </tr>\n",
       "    </tbody></table>"
      ],
      "text/plain": [
       "<pandas.io.formats.style.Styler at 0x25d392eebb0>"
      ]
     },
     "metadata": {},
     "output_type": "display_data"
    }
   ],
   "source": [
    "predict_model(tuned_lr);"
   ]
  },
  {
   "cell_type": "markdown",
   "metadata": {},
   "source": [
    "Model finalization is the last step in the experiment. A normal machine learning workflow in PyCaret starts with setup(), followed by comparing all models using compare_models() and shortlisting a few candidate models (based on the metric of interest) to perform several modeling techniques such as hyperparameter tuning, ensembling, stacking etc. This workflow will eventually lead you to the best model for use in making predictions on new and unseen data. The finalize_model() function fits the model onto the complete dataset including the test/hold-out sample (30% in this case). The purpose of this function is to train the model on the complete dataset before it is deployed in production."
   ]
  },
  {
   "cell_type": "code",
   "execution_count": 48,
   "metadata": {},
   "outputs": [],
   "source": [
    "final_lr = finalize_model(tuned_lr)"
   ]
  },
  {
   "cell_type": "code",
   "execution_count": 49,
   "metadata": {},
   "outputs": [
    {
     "name": "stdout",
     "output_type": "stream",
     "text": [
      "LogisticRegression(C=5.56, class_weight='balanced', dual=False,\n",
      "                   fit_intercept=True, intercept_scaling=1, l1_ratio=None,\n",
      "                   max_iter=1000, multi_class='auto', n_jobs=None,\n",
      "                   penalty='none', random_state=123, solver='lbfgs', tol=0.0001,\n",
      "                   verbose=0, warm_start=False)\n"
     ]
    }
   ],
   "source": [
    "print(final_lr)"
   ]
  },
  {
   "cell_type": "markdown",
   "metadata": {},
   "source": [
    "Caution: One final word of caution. Once the model is finalized using finalize_model(), the entire dataset including the test/hold-out set is used for training. As such, if the model is used for predictions on the hold-out set after finalize_model() is used, the information grid printed will be misleading as you are trying to predict on the same data that was used for modeling. In order to demonstrate this point only, we will use final_lr under predict_model() to compare the information grid with the one above in section 11."
   ]
  },
  {
   "cell_type": "code",
   "execution_count": 50,
   "metadata": {},
   "outputs": [
    {
     "data": {
      "text/html": [
       "<style  type=\"text/css\" >\n",
       "</style><table id=\"T_0ee04d46_c936_11eb_bf49_10bf4887320c\" ><thead>    <tr>        <th class=\"blank level0\" ></th>        <th class=\"col_heading level0 col0\" >Model</th>        <th class=\"col_heading level0 col1\" >Accuracy</th>        <th class=\"col_heading level0 col2\" >AUC</th>        <th class=\"col_heading level0 col3\" >Recall</th>        <th class=\"col_heading level0 col4\" >Prec.</th>        <th class=\"col_heading level0 col5\" >F1</th>        <th class=\"col_heading level0 col6\" >Kappa</th>        <th class=\"col_heading level0 col7\" >MCC</th>    </tr></thead><tbody>\n",
       "                <tr>\n",
       "                        <th id=\"T_0ee04d46_c936_11eb_bf49_10bf4887320clevel0_row0\" class=\"row_heading level0 row0\" >0</th>\n",
       "                        <td id=\"T_0ee04d46_c936_11eb_bf49_10bf4887320crow0_col0\" class=\"data row0 col0\" >Logistic Regression</td>\n",
       "                        <td id=\"T_0ee04d46_c936_11eb_bf49_10bf4887320crow0_col1\" class=\"data row0 col1\" >0.7293</td>\n",
       "                        <td id=\"T_0ee04d46_c936_11eb_bf49_10bf4887320crow0_col2\" class=\"data row0 col2\" >0.8355</td>\n",
       "                        <td id=\"T_0ee04d46_c936_11eb_bf49_10bf4887320crow0_col3\" class=\"data row0 col3\" >0.8037</td>\n",
       "                        <td id=\"T_0ee04d46_c936_11eb_bf49_10bf4887320crow0_col4\" class=\"data row0 col4\" >0.0559</td>\n",
       "                        <td id=\"T_0ee04d46_c936_11eb_bf49_10bf4887320crow0_col5\" class=\"data row0 col5\" >0.1046</td>\n",
       "                        <td id=\"T_0ee04d46_c936_11eb_bf49_10bf4887320crow0_col6\" class=\"data row0 col6\" >0.0704</td>\n",
       "                        <td id=\"T_0ee04d46_c936_11eb_bf49_10bf4887320crow0_col7\" class=\"data row0 col7\" >0.1639</td>\n",
       "            </tr>\n",
       "    </tbody></table>"
      ],
      "text/plain": [
       "<pandas.io.formats.style.Styler at 0x25d32cc8ca0>"
      ]
     },
     "metadata": {},
     "output_type": "display_data"
    }
   ],
   "source": [
    "predict_model(final_lr);"
   ]
  },
  {
   "cell_type": "markdown",
   "metadata": {},
   "source": [
    "Notice how the AUC in final_lr has increased, even though the model is the same. This is because the final_lr variable has been trained on the complete dataset including the test/hold-out set."
   ]
  },
  {
   "cell_type": "markdown",
   "metadata": {},
   "source": [
    "The predict_model() function is also used to predict on the unseen dataset. The only difference from section 11 above is that this time we will pass the data_unseen parameter. data_unseen is the variable created at the beginning of the tutorial and contains 5% (1200 samples) of the original dataset which was never exposed to PyCaret."
   ]
  },
  {
   "cell_type": "code",
   "execution_count": 51,
   "metadata": {},
   "outputs": [
    {
     "data": {
      "text/html": [
       "<div>\n",
       "<style scoped>\n",
       "    .dataframe tbody tr th:only-of-type {\n",
       "        vertical-align: middle;\n",
       "    }\n",
       "\n",
       "    .dataframe tbody tr th {\n",
       "        vertical-align: top;\n",
       "    }\n",
       "\n",
       "    .dataframe thead th {\n",
       "        text-align: right;\n",
       "    }\n",
       "</style>\n",
       "<table border=\"1\" class=\"dataframe\">\n",
       "  <thead>\n",
       "    <tr style=\"text-align: right;\">\n",
       "      <th></th>\n",
       "      <th>gender</th>\n",
       "      <th>age</th>\n",
       "      <th>hypertension</th>\n",
       "      <th>heart_disease</th>\n",
       "      <th>ever_married</th>\n",
       "      <th>work_type</th>\n",
       "      <th>Residence_type</th>\n",
       "      <th>avg_glucose_level</th>\n",
       "      <th>bmi</th>\n",
       "      <th>smoking_status</th>\n",
       "      <th>stroke</th>\n",
       "      <th>Label</th>\n",
       "      <th>Score</th>\n",
       "    </tr>\n",
       "  </thead>\n",
       "  <tbody>\n",
       "    <tr>\n",
       "      <th>0</th>\n",
       "      <td>Female</td>\n",
       "      <td>74.0</td>\n",
       "      <td>1</td>\n",
       "      <td>0</td>\n",
       "      <td>Yes</td>\n",
       "      <td>Self-employed</td>\n",
       "      <td>Urban</td>\n",
       "      <td>205.84</td>\n",
       "      <td>54.6</td>\n",
       "      <td>never smoked</td>\n",
       "      <td>0</td>\n",
       "      <td>1</td>\n",
       "      <td>0.8614</td>\n",
       "    </tr>\n",
       "    <tr>\n",
       "      <th>1</th>\n",
       "      <td>Male</td>\n",
       "      <td>46.0</td>\n",
       "      <td>0</td>\n",
       "      <td>0</td>\n",
       "      <td>Yes</td>\n",
       "      <td>Self-employed</td>\n",
       "      <td>Rural</td>\n",
       "      <td>88.19</td>\n",
       "      <td>29.3</td>\n",
       "      <td>formerly smoked</td>\n",
       "      <td>0</td>\n",
       "      <td>0</td>\n",
       "      <td>0.7985</td>\n",
       "    </tr>\n",
       "    <tr>\n",
       "      <th>2</th>\n",
       "      <td>Female</td>\n",
       "      <td>82.0</td>\n",
       "      <td>0</td>\n",
       "      <td>1</td>\n",
       "      <td>No</td>\n",
       "      <td>Private</td>\n",
       "      <td>Urban</td>\n",
       "      <td>215.60</td>\n",
       "      <td>24.9</td>\n",
       "      <td>never smoked</td>\n",
       "      <td>0</td>\n",
       "      <td>1</td>\n",
       "      <td>0.9209</td>\n",
       "    </tr>\n",
       "    <tr>\n",
       "      <th>3</th>\n",
       "      <td>Female</td>\n",
       "      <td>60.0</td>\n",
       "      <td>0</td>\n",
       "      <td>0</td>\n",
       "      <td>Yes</td>\n",
       "      <td>Private</td>\n",
       "      <td>Rural</td>\n",
       "      <td>66.42</td>\n",
       "      <td>23.6</td>\n",
       "      <td>never smoked</td>\n",
       "      <td>0</td>\n",
       "      <td>0</td>\n",
       "      <td>0.6215</td>\n",
       "    </tr>\n",
       "    <tr>\n",
       "      <th>4</th>\n",
       "      <td>Male</td>\n",
       "      <td>38.0</td>\n",
       "      <td>0</td>\n",
       "      <td>0</td>\n",
       "      <td>No</td>\n",
       "      <td>Self-employed</td>\n",
       "      <td>Urban</td>\n",
       "      <td>74.09</td>\n",
       "      <td>39.6</td>\n",
       "      <td>never smoked</td>\n",
       "      <td>0</td>\n",
       "      <td>0</td>\n",
       "      <td>0.8849</td>\n",
       "    </tr>\n",
       "  </tbody>\n",
       "</table>\n",
       "</div>"
      ],
      "text/plain": [
       "   gender   age  hypertension  heart_disease ever_married      work_type  \\\n",
       "0  Female  74.0             1              0          Yes  Self-employed   \n",
       "1    Male  46.0             0              0          Yes  Self-employed   \n",
       "2  Female  82.0             0              1           No        Private   \n",
       "3  Female  60.0             0              0          Yes        Private   \n",
       "4    Male  38.0             0              0           No  Self-employed   \n",
       "\n",
       "  Residence_type  avg_glucose_level   bmi   smoking_status  stroke  Label  \\\n",
       "0          Urban             205.84  54.6     never smoked       0      1   \n",
       "1          Rural              88.19  29.3  formerly smoked       0      0   \n",
       "2          Urban             215.60  24.9     never smoked       0      1   \n",
       "3          Rural              66.42  23.6     never smoked       0      0   \n",
       "4          Urban              74.09  39.6     never smoked       0      0   \n",
       "\n",
       "    Score  \n",
       "0  0.8614  \n",
       "1  0.7985  \n",
       "2  0.9209  \n",
       "3  0.6215  \n",
       "4  0.8849  "
      ]
     },
     "execution_count": 51,
     "metadata": {},
     "output_type": "execute_result"
    }
   ],
   "source": [
    "unseen_predictions = predict_model(final_lr, data=data_unseen)\n",
    "unseen_predictions.head()"
   ]
  },
  {
   "cell_type": "markdown",
   "metadata": {},
   "source": [
    "The Label and Score columns are added onto the data_unseen set. Label is the prediction and score is the probability of the prediction. Notice that predicted results are concatenated to the original dataset while all the transformations are automatically performed in the background. You can also check the metrics on this since you have actual target column default available. To do that we will use pycaret.utils module. See example below:"
   ]
  },
  {
   "cell_type": "code",
   "execution_count": 52,
   "metadata": {},
   "outputs": [
    {
     "data": {
      "text/plain": [
       "0.7596"
      ]
     },
     "execution_count": 52,
     "metadata": {},
     "output_type": "execute_result"
    }
   ],
   "source": [
    "from pycaret.utils import check_metric\n",
    "check_metric(unseen_predictions['stroke'], unseen_predictions['Label'], metric = 'AUC')"
   ]
  },
  {
   "cell_type": "markdown",
   "metadata": {},
   "source": [
    "We have now finished the experiment by finalizing the tuned_lr model which is now stored in final_lr variable. We have also used the model stored in final_lr to predict data_unseen. This brings us to the end of our experiment, but one question is still to be asked: What happens when you have more new data to predict? Do you have to go through the entire experiment again? The answer is no, PyCaret's inbuilt function save_model() allows you to save the model along with entire transformation pipeline for later use."
   ]
  },
  {
   "cell_type": "code",
   "execution_count": 53,
   "metadata": {},
   "outputs": [
    {
     "name": "stdout",
     "output_type": "stream",
     "text": [
      "Transformation Pipeline and Model Succesfully Saved\n"
     ]
    },
    {
     "data": {
      "text/plain": [
       "(Pipeline(memory=None,\n",
       "          steps=[('dtypes',\n",
       "                  DataTypes_Auto_infer(categorical_features=[],\n",
       "                                       display_types=True, features_todrop=[],\n",
       "                                       id_columns=[],\n",
       "                                       ml_usecase='classification',\n",
       "                                       numerical_features=[], target='stroke',\n",
       "                                       time_features=[])),\n",
       "                 ('imputer',\n",
       "                  Simple_Imputer(categorical_strategy='not_available',\n",
       "                                 fill_value_categorical=None,\n",
       "                                 fill_value_numerical=None,\n",
       "                                 numeric_strat...\n",
       "                 ('feature_select', 'passthrough'), ('fix_multi', 'passthrough'),\n",
       "                 ('dfs', 'passthrough'), ('pca', 'passthrough'),\n",
       "                 ['trained_model',\n",
       "                  LogisticRegression(C=5.56, class_weight='balanced', dual=False,\n",
       "                                     fit_intercept=True, intercept_scaling=1,\n",
       "                                     l1_ratio=None, max_iter=1000,\n",
       "                                     multi_class='auto', n_jobs=None,\n",
       "                                     penalty='none', random_state=123,\n",
       "                                     solver='lbfgs', tol=0.0001, verbose=0,\n",
       "                                     warm_start=False)]],\n",
       "          verbose=False),\n",
       " 'Final LR Model 10May2021.pkl')"
      ]
     },
     "execution_count": 53,
     "metadata": {},
     "output_type": "execute_result"
    }
   ],
   "source": [
    "save_model(final_lr,'Final LR Model 10May2021')"
   ]
  },
  {
   "cell_type": "markdown",
   "metadata": {},
   "source": [
    "To load a saved model at a future date in the same or an alternative environment, we would use PyCaret's load_model() function and then easily apply the saved model on new unseen data for prediction."
   ]
  },
  {
   "cell_type": "code",
   "execution_count": 54,
   "metadata": {},
   "outputs": [
    {
     "name": "stdout",
     "output_type": "stream",
     "text": [
      "Transformation Pipeline and Model Successfully Loaded\n"
     ]
    }
   ],
   "source": [
    "saved_final_lr = load_model('Final LR Model 10May2021')"
   ]
  },
  {
   "cell_type": "markdown",
   "metadata": {},
   "source": [
    "Once the model is loaded in the environment, you can simply use it to predict on any new data using the same predict_model() function. Below we have applied the loaded model to predict the same data_unseen that we used in section 13 above."
   ]
  },
  {
   "cell_type": "code",
   "execution_count": 55,
   "metadata": {},
   "outputs": [],
   "source": [
    "new_prediction = predict_model(saved_final_lr, data=data_unseen)"
   ]
  },
  {
   "cell_type": "code",
   "execution_count": 56,
   "metadata": {},
   "outputs": [
    {
     "data": {
      "text/html": [
       "<div>\n",
       "<style scoped>\n",
       "    .dataframe tbody tr th:only-of-type {\n",
       "        vertical-align: middle;\n",
       "    }\n",
       "\n",
       "    .dataframe tbody tr th {\n",
       "        vertical-align: top;\n",
       "    }\n",
       "\n",
       "    .dataframe thead th {\n",
       "        text-align: right;\n",
       "    }\n",
       "</style>\n",
       "<table border=\"1\" class=\"dataframe\">\n",
       "  <thead>\n",
       "    <tr style=\"text-align: right;\">\n",
       "      <th></th>\n",
       "      <th>gender</th>\n",
       "      <th>age</th>\n",
       "      <th>hypertension</th>\n",
       "      <th>heart_disease</th>\n",
       "      <th>ever_married</th>\n",
       "      <th>work_type</th>\n",
       "      <th>Residence_type</th>\n",
       "      <th>avg_glucose_level</th>\n",
       "      <th>bmi</th>\n",
       "      <th>smoking_status</th>\n",
       "      <th>stroke</th>\n",
       "      <th>Label</th>\n",
       "      <th>Score</th>\n",
       "    </tr>\n",
       "  </thead>\n",
       "  <tbody>\n",
       "    <tr>\n",
       "      <th>0</th>\n",
       "      <td>Female</td>\n",
       "      <td>74.0</td>\n",
       "      <td>1</td>\n",
       "      <td>0</td>\n",
       "      <td>Yes</td>\n",
       "      <td>Self-employed</td>\n",
       "      <td>Urban</td>\n",
       "      <td>205.84</td>\n",
       "      <td>54.6</td>\n",
       "      <td>never smoked</td>\n",
       "      <td>0</td>\n",
       "      <td>1</td>\n",
       "      <td>0.8614</td>\n",
       "    </tr>\n",
       "    <tr>\n",
       "      <th>1</th>\n",
       "      <td>Male</td>\n",
       "      <td>46.0</td>\n",
       "      <td>0</td>\n",
       "      <td>0</td>\n",
       "      <td>Yes</td>\n",
       "      <td>Self-employed</td>\n",
       "      <td>Rural</td>\n",
       "      <td>88.19</td>\n",
       "      <td>29.3</td>\n",
       "      <td>formerly smoked</td>\n",
       "      <td>0</td>\n",
       "      <td>0</td>\n",
       "      <td>0.7985</td>\n",
       "    </tr>\n",
       "    <tr>\n",
       "      <th>2</th>\n",
       "      <td>Female</td>\n",
       "      <td>82.0</td>\n",
       "      <td>0</td>\n",
       "      <td>1</td>\n",
       "      <td>No</td>\n",
       "      <td>Private</td>\n",
       "      <td>Urban</td>\n",
       "      <td>215.60</td>\n",
       "      <td>24.9</td>\n",
       "      <td>never smoked</td>\n",
       "      <td>0</td>\n",
       "      <td>1</td>\n",
       "      <td>0.9209</td>\n",
       "    </tr>\n",
       "    <tr>\n",
       "      <th>3</th>\n",
       "      <td>Female</td>\n",
       "      <td>60.0</td>\n",
       "      <td>0</td>\n",
       "      <td>0</td>\n",
       "      <td>Yes</td>\n",
       "      <td>Private</td>\n",
       "      <td>Rural</td>\n",
       "      <td>66.42</td>\n",
       "      <td>23.6</td>\n",
       "      <td>never smoked</td>\n",
       "      <td>0</td>\n",
       "      <td>0</td>\n",
       "      <td>0.6215</td>\n",
       "    </tr>\n",
       "    <tr>\n",
       "      <th>4</th>\n",
       "      <td>Male</td>\n",
       "      <td>38.0</td>\n",
       "      <td>0</td>\n",
       "      <td>0</td>\n",
       "      <td>No</td>\n",
       "      <td>Self-employed</td>\n",
       "      <td>Urban</td>\n",
       "      <td>74.09</td>\n",
       "      <td>39.6</td>\n",
       "      <td>never smoked</td>\n",
       "      <td>0</td>\n",
       "      <td>0</td>\n",
       "      <td>0.8849</td>\n",
       "    </tr>\n",
       "  </tbody>\n",
       "</table>\n",
       "</div>"
      ],
      "text/plain": [
       "   gender   age  hypertension  heart_disease ever_married      work_type  \\\n",
       "0  Female  74.0             1              0          Yes  Self-employed   \n",
       "1    Male  46.0             0              0          Yes  Self-employed   \n",
       "2  Female  82.0             0              1           No        Private   \n",
       "3  Female  60.0             0              0          Yes        Private   \n",
       "4    Male  38.0             0              0           No  Self-employed   \n",
       "\n",
       "  Residence_type  avg_glucose_level   bmi   smoking_status  stroke  Label  \\\n",
       "0          Urban             205.84  54.6     never smoked       0      1   \n",
       "1          Rural              88.19  29.3  formerly smoked       0      0   \n",
       "2          Urban             215.60  24.9     never smoked       0      1   \n",
       "3          Rural              66.42  23.6     never smoked       0      0   \n",
       "4          Urban              74.09  39.6     never smoked       0      0   \n",
       "\n",
       "    Score  \n",
       "0  0.8614  \n",
       "1  0.7985  \n",
       "2  0.9209  \n",
       "3  0.6215  \n",
       "4  0.8849  "
      ]
     },
     "execution_count": 56,
     "metadata": {},
     "output_type": "execute_result"
    }
   ],
   "source": [
    "new_prediction.head()"
   ]
  },
  {
   "cell_type": "markdown",
   "metadata": {},
   "source": [
    "Notice that the results of unseen_predictions and new_prediction are identical."
   ]
  },
  {
   "cell_type": "code",
   "execution_count": 57,
   "metadata": {},
   "outputs": [
    {
     "data": {
      "text/plain": [
       "0.7596"
      ]
     },
     "execution_count": 57,
     "metadata": {},
     "output_type": "execute_result"
    }
   ],
   "source": [
    "from pycaret.utils import check_metric\n",
    "check_metric(new_prediction['stroke'], new_prediction['Label'], metric = 'AUC')"
   ]
  },
  {
   "cell_type": "code",
   "execution_count": null,
   "metadata": {},
   "outputs": [],
   "source": []
  }
 ],
 "metadata": {
  "kernelspec": {
   "display_name": "Python 3",
   "language": "python",
   "name": "python3"
  },
  "language_info": {
   "codemirror_mode": {
    "name": "ipython",
    "version": 3
   },
   "file_extension": ".py",
   "mimetype": "text/x-python",
   "name": "python",
   "nbconvert_exporter": "python",
   "pygments_lexer": "ipython3",
   "version": "3.8.10"
  }
 },
 "nbformat": 4,
 "nbformat_minor": 4
}
